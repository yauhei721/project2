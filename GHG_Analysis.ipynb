{
 "cells": [
  {
   "cell_type": "code",
   "execution_count": 128,
   "id": "2458867c-bece-491e-b00e-51a701b562a1",
   "metadata": {},
   "outputs": [],
   "source": [
    "# Import libraries and dependencies\n",
    "import pandas as pd\n",
    "from pathlib import Path\n",
    "import numpy as np\n",
    "import hvplot.pandas  # noqa\n",
    "import hvplot.dask  # noqa\n",
    "from statsmodels.tsa.arima.model import ARIMA\n",
    "%matplotlib inline"
   ]
  },
  {
   "cell_type": "code",
   "execution_count": 129,
   "id": "b348653d-eefa-4177-8511-f0545fc63acb",
   "metadata": {},
   "outputs": [
    {
     "data": {
      "text/html": [
       "<div>\n",
       "<style scoped>\n",
       "    .dataframe tbody tr th:only-of-type {\n",
       "        vertical-align: middle;\n",
       "    }\n",
       "\n",
       "    .dataframe tbody tr th {\n",
       "        vertical-align: top;\n",
       "    }\n",
       "\n",
       "    .dataframe thead th {\n",
       "        text-align: right;\n",
       "    }\n",
       "</style>\n",
       "<table border=\"1\" class=\"dataframe\">\n",
       "  <thead>\n",
       "    <tr style=\"text-align: right;\">\n",
       "      <th></th>\n",
       "      <th>Region</th>\n",
       "      <th>Index</th>\n",
       "      <th>Source</th>\n",
       "      <th>Category</th>\n",
       "      <th>Sub-category</th>\n",
       "      <th>Sub-sub-category</th>\n",
       "      <th>Total</th>\n",
       "      <th>CO2eq</th>\n",
       "      <th>Unit</th>\n",
       "    </tr>\n",
       "    <tr>\n",
       "      <th>Year</th>\n",
       "      <th></th>\n",
       "      <th></th>\n",
       "      <th></th>\n",
       "      <th></th>\n",
       "      <th></th>\n",
       "      <th></th>\n",
       "      <th></th>\n",
       "      <th></th>\n",
       "      <th></th>\n",
       "    </tr>\n",
       "  </thead>\n",
       "  <tbody>\n",
       "    <tr>\n",
       "      <th>1990-01-01</th>\n",
       "      <td>Alberta</td>\n",
       "      <td>0</td>\n",
       "      <td>Provincial Inventory Total</td>\n",
       "      <td>NaN</td>\n",
       "      <td>NaN</td>\n",
       "      <td>NaN</td>\n",
       "      <td>y</td>\n",
       "      <td>171.7849588</td>\n",
       "      <td>Mt</td>\n",
       "    </tr>\n",
       "    <tr>\n",
       "      <th>1990-01-01</th>\n",
       "      <td>Alberta</td>\n",
       "      <td>1</td>\n",
       "      <td>Oil and Gas</td>\n",
       "      <td>NaN</td>\n",
       "      <td>NaN</td>\n",
       "      <td>NaN</td>\n",
       "      <td>y</td>\n",
       "      <td>65.21309573</td>\n",
       "      <td>Mt</td>\n",
       "    </tr>\n",
       "    <tr>\n",
       "      <th>1990-01-01</th>\n",
       "      <td>Alberta</td>\n",
       "      <td>2</td>\n",
       "      <td>Oil and Gas</td>\n",
       "      <td>Upstream Oil and Gas</td>\n",
       "      <td>NaN</td>\n",
       "      <td>NaN</td>\n",
       "      <td>y</td>\n",
       "      <td>61.57702554</td>\n",
       "      <td>Mt</td>\n",
       "    </tr>\n",
       "    <tr>\n",
       "      <th>1990-01-01</th>\n",
       "      <td>Alberta</td>\n",
       "      <td>3</td>\n",
       "      <td>Oil and Gas</td>\n",
       "      <td>Upstream Oil and Gas</td>\n",
       "      <td>Natural Gas Production and Processing</td>\n",
       "      <td>NaN</td>\n",
       "      <td>NaN</td>\n",
       "      <td>27.83228536</td>\n",
       "      <td>Mt</td>\n",
       "    </tr>\n",
       "    <tr>\n",
       "      <th>1990-01-01</th>\n",
       "      <td>Alberta</td>\n",
       "      <td>4</td>\n",
       "      <td>Oil and Gas</td>\n",
       "      <td>Upstream Oil and Gas</td>\n",
       "      <td>Conventional Oil Production</td>\n",
       "      <td>NaN</td>\n",
       "      <td>y</td>\n",
       "      <td>15.26101044</td>\n",
       "      <td>Mt</td>\n",
       "    </tr>\n",
       "  </tbody>\n",
       "</table>\n",
       "</div>"
      ],
      "text/plain": [
       "             Region  Index                      Source              Category  \\\n",
       "Year                                                                           \n",
       "1990-01-01  Alberta      0  Provincial Inventory Total                   NaN   \n",
       "1990-01-01  Alberta      1                 Oil and Gas                   NaN   \n",
       "1990-01-01  Alberta      2                 Oil and Gas  Upstream Oil and Gas   \n",
       "1990-01-01  Alberta      3                 Oil and Gas  Upstream Oil and Gas   \n",
       "1990-01-01  Alberta      4                 Oil and Gas  Upstream Oil and Gas   \n",
       "\n",
       "                                     Sub-category Sub-sub-category Total  \\\n",
       "Year                                                                       \n",
       "1990-01-01                                    NaN              NaN     y   \n",
       "1990-01-01                                    NaN              NaN     y   \n",
       "1990-01-01                                    NaN              NaN     y   \n",
       "1990-01-01  Natural Gas Production and Processing              NaN   NaN   \n",
       "1990-01-01            Conventional Oil Production              NaN     y   \n",
       "\n",
       "                  CO2eq Unit  \n",
       "Year                          \n",
       "1990-01-01  171.7849588   Mt  \n",
       "1990-01-01  65.21309573   Mt  \n",
       "1990-01-01  61.57702554   Mt  \n",
       "1990-01-01  27.83228536   Mt  \n",
       "1990-01-01  15.26101044   Mt  "
      ]
     },
     "execution_count": 129,
     "metadata": {},
     "output_type": "execute_result"
    }
   ],
   "source": [
    "# Read CSV, parse dates, and set index\n",
    "csvpath = Path('./Resources/GHG_Econ_Can_Prov_Terr.csv')\n",
    "df = pd.read_csv(csvpath, parse_dates=True, index_col='Year', infer_datetime_format=True)\n",
    "df.head()"
   ]
  },
  {
   "cell_type": "markdown",
   "id": "cfa4209c-3598-4814-bbaf-24cefbe35583",
   "metadata": {},
   "source": [
    "## Know more about the data file"
   ]
  },
  {
   "cell_type": "code",
   "execution_count": 130,
   "id": "daadef10-1f3c-4203-afdc-657101de6552",
   "metadata": {},
   "outputs": [
    {
     "data": {
      "text/plain": [
       "Year\n",
       "1990-01-01    Provincial Inventory Total\n",
       "1990-01-01                   Oil and Gas\n",
       "1990-01-01                   Oil and Gas\n",
       "1990-01-01                   Oil and Gas\n",
       "1990-01-01                   Oil and Gas\n",
       "                         ...            \n",
       "2019-01-01                     Buildings\n",
       "2019-01-01                     Buildings\n",
       "2019-01-01                         Waste\n",
       "2019-01-01                         Waste\n",
       "2019-01-01                         Waste\n",
       "Name: Source, Length: 16825, dtype: object"
      ]
     },
     "execution_count": 130,
     "metadata": {},
     "output_type": "execute_result"
    }
   ],
   "source": [
    "df['Source']"
   ]
  },
  {
   "cell_type": "code",
   "execution_count": 131,
   "id": "a289946b-4350-4ed9-ad0d-5f952ab93ab7",
   "metadata": {},
   "outputs": [
    {
     "name": "stderr",
     "output_type": "stream",
     "text": [
      "C:\\Users\\Yau Hei Chan\\anaconda3\\lib\\site-packages\\pandas\\core\\frame.py:4906: SettingWithCopyWarning: \n",
      "A value is trying to be set on a copy of a slice from a DataFrame\n",
      "\n",
      "See the caveats in the documentation: https://pandas.pydata.org/pandas-docs/stable/user_guide/indexing.html#returning-a-view-versus-a-copy\n",
      "  return super().drop(\n"
     ]
    }
   ],
   "source": [
    "total_provincal_ghg = df[df['Source'] == 'Provincial Inventory Total']\n",
    "total_provincal_ghg.drop(columns=['Index', 'Source','Category','Sub-category','Sub-sub-category', 'Total','Unit'], inplace=True)\n",
    "\n",
    "total_canada_ghg = df[df['Source'] == 'National Inventory Total']\n",
    "total_canada_ghg.drop(columns=['Index', 'Source','Category','Sub-category','Sub-sub-category', 'Total','Unit'], inplace=True)"
   ]
  },
  {
   "cell_type": "code",
   "execution_count": 132,
   "id": "22d92709-2f64-4305-a608-f63b8f2dc447",
   "metadata": {},
   "outputs": [
    {
     "data": {
      "text/html": [
       "<div>\n",
       "<style scoped>\n",
       "    .dataframe tbody tr th:only-of-type {\n",
       "        vertical-align: middle;\n",
       "    }\n",
       "\n",
       "    .dataframe tbody tr th {\n",
       "        vertical-align: top;\n",
       "    }\n",
       "\n",
       "    .dataframe thead th {\n",
       "        text-align: right;\n",
       "    }\n",
       "</style>\n",
       "<table border=\"1\" class=\"dataframe\">\n",
       "  <thead>\n",
       "    <tr style=\"text-align: right;\">\n",
       "      <th></th>\n",
       "      <th>Region</th>\n",
       "      <th>CO2eq</th>\n",
       "    </tr>\n",
       "    <tr>\n",
       "      <th>Year</th>\n",
       "      <th></th>\n",
       "      <th></th>\n",
       "    </tr>\n",
       "  </thead>\n",
       "  <tbody>\n",
       "    <tr>\n",
       "      <th>1990-01-01</th>\n",
       "      <td>Alberta</td>\n",
       "      <td>171.7849588</td>\n",
       "    </tr>\n",
       "    <tr>\n",
       "      <th>1991-01-01</th>\n",
       "      <td>Alberta</td>\n",
       "      <td>172.9444695</td>\n",
       "    </tr>\n",
       "    <tr>\n",
       "      <th>1992-01-01</th>\n",
       "      <td>Alberta</td>\n",
       "      <td>180.9919743</td>\n",
       "    </tr>\n",
       "    <tr>\n",
       "      <th>1993-01-01</th>\n",
       "      <td>Alberta</td>\n",
       "      <td>186.7214107</td>\n",
       "    </tr>\n",
       "    <tr>\n",
       "      <th>1994-01-01</th>\n",
       "      <td>Alberta</td>\n",
       "      <td>196.1613682</td>\n",
       "    </tr>\n",
       "  </tbody>\n",
       "</table>\n",
       "</div>"
      ],
      "text/plain": [
       "             Region        CO2eq\n",
       "Year                            \n",
       "1990-01-01  Alberta  171.7849588\n",
       "1991-01-01  Alberta  172.9444695\n",
       "1992-01-01  Alberta  180.9919743\n",
       "1993-01-01  Alberta  186.7214107\n",
       "1994-01-01  Alberta  196.1613682"
      ]
     },
     "execution_count": 132,
     "metadata": {},
     "output_type": "execute_result"
    }
   ],
   "source": [
    "total_provincal_ghg.head()"
   ]
  },
  {
   "cell_type": "code",
   "execution_count": 133,
   "id": "ae02222f-2459-44d5-ad6e-a34bf378e462",
   "metadata": {},
   "outputs": [
    {
     "data": {
      "text/html": [
       "<div>\n",
       "<style scoped>\n",
       "    .dataframe tbody tr th:only-of-type {\n",
       "        vertical-align: middle;\n",
       "    }\n",
       "\n",
       "    .dataframe tbody tr th {\n",
       "        vertical-align: top;\n",
       "    }\n",
       "\n",
       "    .dataframe thead th {\n",
       "        text-align: right;\n",
       "    }\n",
       "</style>\n",
       "<table border=\"1\" class=\"dataframe\">\n",
       "  <thead>\n",
       "    <tr style=\"text-align: right;\">\n",
       "      <th></th>\n",
       "      <th>Region</th>\n",
       "      <th>CO2eq</th>\n",
       "    </tr>\n",
       "    <tr>\n",
       "      <th>Year</th>\n",
       "      <th></th>\n",
       "      <th></th>\n",
       "    </tr>\n",
       "  </thead>\n",
       "  <tbody>\n",
       "    <tr>\n",
       "      <th>1990-01-01</th>\n",
       "      <td>Canada</td>\n",
       "      <td>601.5236931</td>\n",
       "    </tr>\n",
       "    <tr>\n",
       "      <th>1991-01-01</th>\n",
       "      <td>Canada</td>\n",
       "      <td>595.7767263</td>\n",
       "    </tr>\n",
       "    <tr>\n",
       "      <th>1992-01-01</th>\n",
       "      <td>Canada</td>\n",
       "      <td>613.5906402</td>\n",
       "    </tr>\n",
       "    <tr>\n",
       "      <th>1993-01-01</th>\n",
       "      <td>Canada</td>\n",
       "      <td>616.7983943</td>\n",
       "    </tr>\n",
       "    <tr>\n",
       "      <th>1994-01-01</th>\n",
       "      <td>Canada</td>\n",
       "      <td>638.0004703</td>\n",
       "    </tr>\n",
       "  </tbody>\n",
       "</table>\n",
       "</div>"
      ],
      "text/plain": [
       "            Region        CO2eq\n",
       "Year                           \n",
       "1990-01-01  Canada  601.5236931\n",
       "1991-01-01  Canada  595.7767263\n",
       "1992-01-01  Canada  613.5906402\n",
       "1993-01-01  Canada  616.7983943\n",
       "1994-01-01  Canada  638.0004703"
      ]
     },
     "execution_count": 133,
     "metadata": {},
     "output_type": "execute_result"
    }
   ],
   "source": [
    "total_canada_ghg.head()"
   ]
  },
  {
   "cell_type": "code",
   "execution_count": 134,
   "id": "ef3e17ec-fe3c-4f97-a993-5dd2b07cb0f7",
   "metadata": {},
   "outputs": [
    {
     "data": {
      "text/plain": [
       "array(['Alberta', 'British Columbia', 'Manitoba', 'New Brunswick',\n",
       "       'Newfoundland and Labrador', 'Nova Scotia', 'Ontario',\n",
       "       'Prince Edward Island', 'Quebec', 'Saskatchewan'], dtype=object)"
      ]
     },
     "execution_count": 134,
     "metadata": {},
     "output_type": "execute_result"
    }
   ],
   "source": [
    "region_names = total_provincal_ghg['Region'].unique()\n",
    "region_names"
   ]
  },
  {
   "cell_type": "code",
   "execution_count": 135,
   "id": "10e0194b-7186-4db0-b788-54ead58ab52d",
   "metadata": {},
   "outputs": [
    {
     "data": {
      "text/html": [
       "<div>\n",
       "<style scoped>\n",
       "    .dataframe tbody tr th:only-of-type {\n",
       "        vertical-align: middle;\n",
       "    }\n",
       "\n",
       "    .dataframe tbody tr th {\n",
       "        vertical-align: top;\n",
       "    }\n",
       "\n",
       "    .dataframe thead th {\n",
       "        text-align: right;\n",
       "    }\n",
       "</style>\n",
       "<table border=\"1\" class=\"dataframe\">\n",
       "  <thead>\n",
       "    <tr style=\"text-align: right;\">\n",
       "      <th></th>\n",
       "      <th>Region</th>\n",
       "      <th>CO2eq</th>\n",
       "    </tr>\n",
       "    <tr>\n",
       "      <th>Year</th>\n",
       "      <th></th>\n",
       "      <th></th>\n",
       "    </tr>\n",
       "  </thead>\n",
       "  <tbody>\n",
       "    <tr>\n",
       "      <th>1990-01-01</th>\n",
       "      <td>Alberta</td>\n",
       "      <td>171.7849588</td>\n",
       "    </tr>\n",
       "    <tr>\n",
       "      <th>1991-01-01</th>\n",
       "      <td>Alberta</td>\n",
       "      <td>172.9444695</td>\n",
       "    </tr>\n",
       "    <tr>\n",
       "      <th>1992-01-01</th>\n",
       "      <td>Alberta</td>\n",
       "      <td>180.9919743</td>\n",
       "    </tr>\n",
       "    <tr>\n",
       "      <th>1993-01-01</th>\n",
       "      <td>Alberta</td>\n",
       "      <td>186.7214107</td>\n",
       "    </tr>\n",
       "    <tr>\n",
       "      <th>1994-01-01</th>\n",
       "      <td>Alberta</td>\n",
       "      <td>196.1613682</td>\n",
       "    </tr>\n",
       "  </tbody>\n",
       "</table>\n",
       "</div>"
      ],
      "text/plain": [
       "             Region        CO2eq\n",
       "Year                            \n",
       "1990-01-01  Alberta  171.7849588\n",
       "1991-01-01  Alberta  172.9444695\n",
       "1992-01-01  Alberta  180.9919743\n",
       "1993-01-01  Alberta  186.7214107\n",
       "1994-01-01  Alberta  196.1613682"
      ]
     },
     "execution_count": 135,
     "metadata": {},
     "output_type": "execute_result"
    }
   ],
   "source": [
    "total_provincal_ghg.head()"
   ]
  },
  {
   "cell_type": "code",
   "execution_count": 136,
   "id": "281cb2b3-2101-444c-9ce8-3b320435e473",
   "metadata": {},
   "outputs": [
    {
     "name": "stderr",
     "output_type": "stream",
     "text": [
      "C:\\Users\\YAUHEI~1\\AppData\\Local\\Temp/ipykernel_25856/1879997057.py:2: SettingWithCopyWarning: \n",
      "A value is trying to be set on a copy of a slice from a DataFrame.\n",
      "Try using .loc[row_indexer,col_indexer] = value instead\n",
      "\n",
      "See the caveats in the documentation: https://pandas.pydata.org/pandas-docs/stable/user_guide/indexing.html#returning-a-view-versus-a-copy\n",
      "  total_provincal_ghg['CO2eq']= pd.to_numeric(total_provincal_ghg['CO2eq'])\n",
      "C:\\Users\\YAUHEI~1\\AppData\\Local\\Temp/ipykernel_25856/1879997057.py:3: SettingWithCopyWarning: \n",
      "A value is trying to be set on a copy of a slice from a DataFrame.\n",
      "Try using .loc[row_indexer,col_indexer] = value instead\n",
      "\n",
      "See the caveats in the documentation: https://pandas.pydata.org/pandas-docs/stable/user_guide/indexing.html#returning-a-view-versus-a-copy\n",
      "  total_canada_ghg['CO2eq']= pd.to_numeric(total_canada_ghg['CO2eq'])\n"
     ]
    }
   ],
   "source": [
    "# Convert CO2eq into Numerical data \n",
    "total_provincal_ghg['CO2eq']= pd.to_numeric(total_provincal_ghg['CO2eq'])\n",
    "total_canada_ghg['CO2eq']= pd.to_numeric(total_canada_ghg['CO2eq'])"
   ]
  },
  {
   "cell_type": "code",
   "execution_count": 137,
   "id": "2212e3d3-ada6-4584-893e-d31c45c4d740",
   "metadata": {},
   "outputs": [
    {
     "data": {},
     "metadata": {},
     "output_type": "display_data"
    },
    {
     "data": {
      "application/vnd.holoviews_exec.v0+json": "",
      "text/html": [
       "<div id='6185'>\n",
       "\n",
       "\n",
       "\n",
       "\n",
       "\n",
       "  <div class=\"bk-root\" id=\"24037bf3-6486-4576-8b54-c6f7b9f22adc\" data-root-id=\"6185\"></div>\n",
       "</div>\n",
       "<script type=\"application/javascript\">(function(root) {\n",
       "  function embed_document(root) {\n",
       "    var docs_json = {\"f3b5d7d5-4d48-45a8-babc-55d8eb421889\":{\"defs\":[{\"extends\":null,\"module\":null,\"name\":\"ReactiveHTML1\",\"overrides\":[],\"properties\":[]},{\"extends\":null,\"module\":null,\"name\":\"FlexBox1\",\"overrides\":[],\"properties\":[{\"default\":\"flex-start\",\"kind\":null,\"name\":\"align_content\"},{\"default\":\"flex-start\",\"kind\":null,\"name\":\"align_items\"},{\"default\":\"row\",\"kind\":null,\"name\":\"flex_direction\"},{\"default\":\"wrap\",\"kind\":null,\"name\":\"flex_wrap\"},{\"default\":\"flex-start\",\"kind\":null,\"name\":\"justify_content\"}]},{\"extends\":null,\"module\":null,\"name\":\"TemplateActions1\",\"overrides\":[],\"properties\":[{\"default\":0,\"kind\":null,\"name\":\"open_modal\"},{\"default\":0,\"kind\":null,\"name\":\"close_modal\"}]},{\"extends\":null,\"module\":null,\"name\":\"MaterialTemplateActions1\",\"overrides\":[],\"properties\":[{\"default\":0,\"kind\":null,\"name\":\"open_modal\"},{\"default\":0,\"kind\":null,\"name\":\"close_modal\"}]}],\"roots\":{\"references\":[{\"attributes\":{\"line_color\":\"#30a2da\",\"line_width\":2,\"x\":{\"field\":\"Year\"},\"y\":{\"field\":\"CO2eq\"}},\"id\":\"6228\",\"type\":\"Line\"},{\"attributes\":{},\"id\":\"6195\",\"type\":\"LinearScale\"},{\"attributes\":{\"callback\":null,\"formatters\":{\"@{Year}\":\"datetime\"},\"renderers\":[{\"id\":\"6226\"}],\"tags\":[\"hv_created\"],\"tooltips\":[[\"Year\",\"@{Year}{%F %T}\"],[\"CO2eq\",\"@{CO2eq}\"]]},\"id\":\"6189\",\"type\":\"HoverTool\"},{\"attributes\":{\"axis_label\":\"CO2eq\",\"coordinates\":null,\"formatter\":{\"id\":\"6233\"},\"group\":null,\"major_label_policy\":{\"id\":\"6234\"},\"ticker\":{\"id\":\"6204\"}},\"id\":\"6203\",\"type\":\"LinearAxis\"},{\"attributes\":{\"tools\":[{\"id\":\"6189\"},{\"id\":\"6207\"},{\"id\":\"6208\"},{\"id\":\"6209\"},{\"id\":\"6210\"},{\"id\":\"6211\"}]},\"id\":\"6213\",\"type\":\"Toolbar\"},{\"attributes\":{\"coordinates\":null,\"group\":null,\"text\":\"Region: Alberta\",\"text_color\":\"black\",\"text_font_size\":\"12pt\"},\"id\":\"6191\",\"type\":\"Title\"},{\"attributes\":{},\"id\":\"6197\",\"type\":\"LinearScale\"},{\"attributes\":{\"children\":[{\"id\":\"6287\"},{\"id\":\"6288\"},{\"id\":\"6290\"}],\"margin\":[0,0,0,0],\"name\":\"Column10080\"},\"id\":\"6286\",\"type\":\"Column\"},{\"attributes\":{\"source\":{\"id\":\"6220\"}},\"id\":\"6227\",\"type\":\"CDSView\"},{\"attributes\":{\"num_minor_ticks\":5,\"tickers\":[{\"id\":\"6251\"},{\"id\":\"6252\"},{\"id\":\"6253\"},{\"id\":\"6254\"},{\"id\":\"6255\"},{\"id\":\"6256\"},{\"id\":\"6257\"},{\"id\":\"6258\"},{\"id\":\"6259\"},{\"id\":\"6260\"},{\"id\":\"6261\"},{\"id\":\"6262\"}]},\"id\":\"6200\",\"type\":\"DatetimeTicker\"},{\"attributes\":{\"axis\":{\"id\":\"6199\"},\"coordinates\":null,\"grid_line_color\":null,\"group\":null,\"ticker\":null},\"id\":\"6202\",\"type\":\"Grid\"},{\"attributes\":{},\"id\":\"6231\",\"type\":\"AllLabels\"},{\"attributes\":{\"base\":60,\"mantissas\":[1,2,5,10,15,20,30],\"max_interval\":1800000.0,\"min_interval\":1000.0,\"num_minor_ticks\":0},\"id\":\"6252\",\"type\":\"AdaptiveTicker\"},{\"attributes\":{\"below\":[{\"id\":\"6199\"}],\"center\":[{\"id\":\"6202\"},{\"id\":\"6206\"}],\"height\":300,\"left\":[{\"id\":\"6203\"}],\"margin\":[5,5,5,5],\"min_border_bottom\":10,\"min_border_left\":10,\"min_border_right\":10,\"min_border_top\":10,\"renderers\":[{\"id\":\"6226\"}],\"sizing_mode\":\"fixed\",\"title\":{\"id\":\"6191\"},\"toolbar\":{\"id\":\"6213\"},\"width\":700,\"x_range\":{\"id\":\"6187\"},\"x_scale\":{\"id\":\"6195\"},\"y_range\":{\"id\":\"6188\"},\"y_scale\":{\"id\":\"6197\"}},\"id\":\"6190\",\"subtype\":\"Figure\",\"type\":\"Plot\"},{\"attributes\":{\"margin\":[5,5,5,5],\"name\":\"HSpacer10082\",\"sizing_mode\":\"stretch_width\"},\"id\":\"6285\",\"type\":\"Spacer\"},{\"attributes\":{\"axis_label\":\"Year\",\"coordinates\":null,\"formatter\":{\"id\":\"6230\"},\"group\":null,\"major_label_policy\":{\"id\":\"6231\"},\"ticker\":{\"id\":\"6200\"}},\"id\":\"6199\",\"type\":\"DatetimeAxis\"},{\"attributes\":{\"axis\":{\"id\":\"6203\"},\"coordinates\":null,\"dimension\":1,\"grid_line_color\":null,\"group\":null,\"ticker\":null},\"id\":\"6206\",\"type\":\"Grid\"},{\"attributes\":{\"data\":{\"CO2eq\":{\"__ndarray__\":\"o9bqYR55ZUA50hkYOZ5lQB8f40C+n2ZAgW/kyxVXZ0Cps6TtKYVoQEmFsYUgJ2lA8c2AxED+aUDynyQT5odqQCrXJfTEq2pABDdStgiIa0Dx4x4B0ndsQMp2dBJAW2xAO1haoSNSbECEat7MA05tQOYrNwc+BG1A1BEbh1VvbUA/BoYHKCtuQF3u3TAbY29A2MdUCzYjb0B/JaE+UzZuQCjetxDa9m5ACNBKteoMcEBiEcMO469wQNrnjIMmHnFAna+juzVicUCFYLB2T2ZxQAJlU64wfXBA75HNVTPwcEDkV2JU6AdxQEuyaQCKPXFA\",\"dtype\":\"float64\",\"order\":\"little\",\"shape\":[30]},\"Year\":{\"__ndarray__\":\"AACA53JeYkIAAAANaUljQgAAgDJfNGRCAACAI/ofZUIAAABJ8ApmQgAAgG7m9WZCAAAAlNzgZ0IAAACFd8xoQgAAgKptt2lCAAAA0GOiakIAAID1WY1rQgAAgOb0eGxCAAAADOtjbUIAAIAx4U5uQgAAAFfXOW9CAAAAJLkScEIAAMA2NIhwQgAAgEmv/XBCAABAXCpzcUIAAMDU9+hxQgAAgOdyXnJCAABA+u3TckIAAAANaUlzQgAAgIU2v3NCAABAmLE0dEIAAACrLKp0QgAAwL2nH3VCAABANnWVdUIAAABJ8Ap2QgAAwFtrgHZC\",\"dtype\":\"float64\",\"order\":\"little\",\"shape\":[30]}},\"selected\":{\"id\":\"6221\"},\"selection_policy\":{\"id\":\"6248\"}},\"id\":\"6220\",\"type\":\"ColumnDataSource\"},{\"attributes\":{\"line_alpha\":0.2,\"line_color\":\"#30a2da\",\"line_width\":2,\"x\":{\"field\":\"Year\"},\"y\":{\"field\":\"CO2eq\"}},\"id\":\"6225\",\"type\":\"Line\"},{\"attributes\":{\"days\":[1,4,7,10,13,16,19,22,25,28]},\"id\":\"6255\",\"type\":\"DaysTicker\"},{\"attributes\":{},\"id\":\"6208\",\"type\":\"PanTool\"},{\"attributes\":{\"line_color\":\"#30a2da\",\"line_width\":2,\"x\":{\"field\":\"Year\"},\"y\":{\"field\":\"CO2eq\"}},\"id\":\"6223\",\"type\":\"Line\"},{\"attributes\":{\"margin\":[20,20,20,20],\"min_width\":250,\"options\":[\"Alberta\",\"British Columbia\",\"Manitoba\",\"New Brunswick\",\"Newfoundland and Labrador\",\"Nova Scotia\",\"Ontario\",\"Prince Edward Island\",\"Quebec\",\"Saskatchewan\"],\"title\":\"Region\",\"value\":\"Alberta\",\"width\":250},\"id\":\"6289\",\"type\":\"Select\"},{\"attributes\":{\"mantissas\":[1,2,5],\"max_interval\":500.0,\"num_minor_ticks\":0},\"id\":\"6251\",\"type\":\"AdaptiveTicker\"},{\"attributes\":{},\"id\":\"6204\",\"type\":\"BasicTicker\"},{\"attributes\":{\"months\":[0,1,2,3,4,5,6,7,8,9,10,11]},\"id\":\"6258\",\"type\":\"MonthsTicker\"},{\"attributes\":{},\"id\":\"6209\",\"type\":\"WheelZoomTool\"},{\"attributes\":{\"months\":[0,2,4,6,8,10]},\"id\":\"6259\",\"type\":\"MonthsTicker\"},{\"attributes\":{\"line_alpha\":0.1,\"line_color\":\"#30a2da\",\"line_width\":2,\"x\":{\"field\":\"Year\"},\"y\":{\"field\":\"CO2eq\"}},\"id\":\"6224\",\"type\":\"Line\"},{\"attributes\":{},\"id\":\"6207\",\"type\":\"SaveTool\"},{\"attributes\":{\"days\":[1,15]},\"id\":\"6257\",\"type\":\"DaysTicker\"},{\"attributes\":{},\"id\":\"6234\",\"type\":\"AllLabels\"},{\"attributes\":{\"months\":[0,6]},\"id\":\"6261\",\"type\":\"MonthsTicker\"},{\"attributes\":{\"overlay\":{\"id\":\"6212\"}},\"id\":\"6210\",\"type\":\"BoxZoomTool\"},{\"attributes\":{\"end\":1546300800000.0,\"reset_end\":1546300800000.0,\"reset_start\":631152000000.0,\"start\":631152000000.0,\"tags\":[[[\"Year\",\"Year\",null]]]},\"id\":\"6187\",\"type\":\"Range1d\"},{\"attributes\":{\"coordinates\":null,\"data_source\":{\"id\":\"6220\"},\"glyph\":{\"id\":\"6223\"},\"group\":null,\"hover_glyph\":null,\"muted_glyph\":{\"id\":\"6225\"},\"nonselection_glyph\":{\"id\":\"6224\"},\"selection_glyph\":{\"id\":\"6228\"},\"view\":{\"id\":\"6227\"}},\"id\":\"6226\",\"type\":\"GlyphRenderer\"},{\"attributes\":{},\"id\":\"6211\",\"type\":\"ResetTool\"},{\"attributes\":{\"margin\":[5,5,5,5],\"name\":\"HSpacer10081\",\"sizing_mode\":\"stretch_width\"},\"id\":\"6186\",\"type\":\"Spacer\"},{\"attributes\":{},\"id\":\"6230\",\"type\":\"DatetimeTickFormatter\"},{\"attributes\":{\"days\":[1,8,15,22]},\"id\":\"6256\",\"type\":\"DaysTicker\"},{\"attributes\":{},\"id\":\"6262\",\"type\":\"YearsTicker\"},{\"attributes\":{\"children\":[{\"id\":\"6186\"},{\"id\":\"6190\"},{\"id\":\"6285\"},{\"id\":\"6286\"}],\"margin\":[0,0,0,0],\"name\":\"Row10072\"},\"id\":\"6185\",\"type\":\"Row\"},{\"attributes\":{},\"id\":\"6233\",\"type\":\"BasicTickFormatter\"},{\"attributes\":{\"bottom_units\":\"screen\",\"coordinates\":null,\"fill_alpha\":0.5,\"fill_color\":\"lightgrey\",\"group\":null,\"left_units\":\"screen\",\"level\":\"overlay\",\"line_alpha\":1.0,\"line_color\":\"black\",\"line_dash\":[4,4],\"line_width\":2,\"right_units\":\"screen\",\"syncable\":false,\"top_units\":\"screen\"},\"id\":\"6212\",\"type\":\"BoxAnnotation\"},{\"attributes\":{\"months\":[0,4,8]},\"id\":\"6260\",\"type\":\"MonthsTicker\"},{\"attributes\":{},\"id\":\"6221\",\"type\":\"Selection\"},{\"attributes\":{\"base\":24,\"mantissas\":[1,2,4,6,8,12],\"max_interval\":43200000.0,\"min_interval\":3600000.0,\"num_minor_ticks\":0},\"id\":\"6253\",\"type\":\"AdaptiveTicker\"},{\"attributes\":{\"margin\":[5,5,5,5],\"name\":\"VSpacer10079\",\"sizing_mode\":\"stretch_height\"},\"id\":\"6290\",\"type\":\"Spacer\"},{\"attributes\":{\"margin\":[5,5,5,5],\"name\":\"VSpacer10078\",\"sizing_mode\":\"stretch_height\"},\"id\":\"6287\",\"type\":\"Spacer\"},{\"attributes\":{},\"id\":\"6248\",\"type\":\"UnionRenderers\"},{\"attributes\":{\"end\":289.05534444999995,\"reset_end\":289.05534444999995,\"reset_start\":161.12401465,\"start\":161.12401465,\"tags\":[[[\"CO2eq\",\"CO2eq\",null]]]},\"id\":\"6188\",\"type\":\"Range1d\"},{\"attributes\":{\"client_comm_id\":\"558731897a424e92b468f51582daffd0\",\"comm_id\":\"7555eefd71674dad84fd6b9d9dbe12e6\",\"plot_id\":\"6185\"},\"id\":\"6357\",\"type\":\"panel.models.comm_manager.CommManager\"},{\"attributes\":{\"days\":[1,2,3,4,5,6,7,8,9,10,11,12,13,14,15,16,17,18,19,20,21,22,23,24,25,26,27,28,29,30,31]},\"id\":\"6254\",\"type\":\"DaysTicker\"},{\"attributes\":{\"children\":[{\"id\":\"6289\"}],\"css_classes\":[\"panel-widget-box\"],\"margin\":[5,5,5,5],\"name\":\"WidgetBox10073\"},\"id\":\"6288\",\"type\":\"Column\"}],\"root_ids\":[\"6185\",\"6357\"]},\"title\":\"Bokeh Application\",\"version\":\"2.4.1\"}};\n",
       "    var render_items = [{\"docid\":\"f3b5d7d5-4d48-45a8-babc-55d8eb421889\",\"root_ids\":[\"6185\"],\"roots\":{\"6185\":\"24037bf3-6486-4576-8b54-c6f7b9f22adc\"}}];\n",
       "    root.Bokeh.embed.embed_items_notebook(docs_json, render_items);\n",
       "  }\n",
       "  if (root.Bokeh !== undefined && root.Bokeh.Panel !== undefined) {\n",
       "    embed_document(root);\n",
       "  } else {\n",
       "    var attempts = 0;\n",
       "    var timer = setInterval(function(root) {\n",
       "      if (root.Bokeh !== undefined && root.Bokeh.Panel !== undefined) {\n",
       "        clearInterval(timer);\n",
       "        embed_document(root);\n",
       "      } else if (document.readyState == \"complete\") {\n",
       "        attempts++;\n",
       "        if (attempts > 200) {\n",
       "          clearInterval(timer);\n",
       "          console.log(\"Bokeh: ERROR: Unable to run BokehJS code because BokehJS library is missing\");\n",
       "        }\n",
       "      }\n",
       "    }, 25, root)\n",
       "  }\n",
       "})(window);</script>"
      ],
      "text/plain": [
       ":DynamicMap   [Region]\n",
       "   :Curve   [Year]   (CO2eq)"
      ]
     },
     "execution_count": 137,
     "metadata": {
      "application/vnd.holoviews_exec.v0+json": {
       "id": "6185"
      }
     },
     "output_type": "execute_result"
    }
   ],
   "source": [
    "# Visualize ghg annual total by region\n",
    "\n",
    "total_provincal_ghg.hvplot(groupby='Region')"
   ]
  },
  {
   "cell_type": "code",
   "execution_count": 138,
   "id": "011c2aa3-762f-4786-b28d-80001f415c71",
   "metadata": {},
   "outputs": [
    {
     "data": {},
     "metadata": {},
     "output_type": "display_data"
    },
    {
     "data": {
      "application/vnd.holoviews_exec.v0+json": "",
      "text/html": [
       "<div id='6468'>\n",
       "\n",
       "\n",
       "\n",
       "\n",
       "\n",
       "  <div class=\"bk-root\" id=\"62b94096-0150-4522-860b-d23e2287899e\" data-root-id=\"6468\"></div>\n",
       "</div>\n",
       "<script type=\"application/javascript\">(function(root) {\n",
       "  function embed_document(root) {\n",
       "    var docs_json = {\"bb3969e3-9306-4864-8ef9-92f9fc87ffa2\":{\"defs\":[{\"extends\":null,\"module\":null,\"name\":\"ReactiveHTML1\",\"overrides\":[],\"properties\":[]},{\"extends\":null,\"module\":null,\"name\":\"FlexBox1\",\"overrides\":[],\"properties\":[{\"default\":\"flex-start\",\"kind\":null,\"name\":\"align_content\"},{\"default\":\"flex-start\",\"kind\":null,\"name\":\"align_items\"},{\"default\":\"row\",\"kind\":null,\"name\":\"flex_direction\"},{\"default\":\"wrap\",\"kind\":null,\"name\":\"flex_wrap\"},{\"default\":\"flex-start\",\"kind\":null,\"name\":\"justify_content\"}]},{\"extends\":null,\"module\":null,\"name\":\"TemplateActions1\",\"overrides\":[],\"properties\":[{\"default\":0,\"kind\":null,\"name\":\"open_modal\"},{\"default\":0,\"kind\":null,\"name\":\"close_modal\"}]},{\"extends\":null,\"module\":null,\"name\":\"MaterialTemplateActions1\",\"overrides\":[],\"properties\":[{\"default\":0,\"kind\":null,\"name\":\"open_modal\"},{\"default\":0,\"kind\":null,\"name\":\"close_modal\"}]}],\"roots\":{\"references\":[{\"attributes\":{\"coordinates\":null,\"group\":null,\"text_color\":\"black\",\"text_font_size\":\"12pt\"},\"id\":\"6483\",\"type\":\"Title\"},{\"attributes\":{\"data\":{\"x\":{\"__ndarray__\":\"AACA53JeYkIAAAANaUljQgAAgDJfNGRCAACAI/ofZUIAAABJ8ApmQgAAgG7m9WZCAAAAlNzgZ0IAAACFd8xoQgAAgKptt2lCAAAA0GOiakIAAID1WY1rQgAAgOb0eGxCAAAADOtjbUIAAIAx4U5uQgAAAFfXOW9CAAAAJLkScEIAAMA2NIhwQgAAgEmv/XBCAABAXCpzcUIAAMDU9+hxQgAAgOdyXnJCAABA+u3TckIAAAANaUlzQgAAgIU2v3NCAABAmLE0dEIAAACrLKp0QgAAwL2nH3VCAABANnWVdUIAAABJ8Ap2QgAAwFtrgHZCAADAW2uAdkIAAABJ8Ap2QgAAQDZ1lXVCAADAvacfdUIAAACrLKp0QgAAQJixNHRCAACAhTa/c0IAAAANaUlzQgAAQPrt03JCAACA53JeckIAAMDU9+hxQgAAQFwqc3FCAACASa/9cEIAAMA2NIhwQgAAACS5EnBCAAAAV9c5b0IAAIAx4U5uQgAAAAzrY21CAACA5vR4bEIAAID1WY1rQgAAANBjompCAACAqm23aUIAAACFd8xoQgAAAJTc4GdCAACAbub1ZkIAAABJ8ApmQgAAgCP6H2VCAACAMl80ZEIAAAANaUljQgAAgOdyXmJC\",\"dtype\":\"float64\",\"order\":\"little\",\"shape\":[60]},\"y\":{\"__ndarray__\":\"o9bqYR55ZUA50hkYOZ5lQB8f40C+n2ZAgW/kyxVXZ0Cps6TtKYVoQEmFsYUgJ2lA8c2AxED+aUDynyQT5odqQCrXJfTEq2pABDdStgiIa0Dx4x4B0ndsQMp2dBJAW2xAO1haoSNSbECEat7MA05tQOYrNwc+BG1A1BEbh1VvbUA/BoYHKCtuQF3u3TAbY29A2MdUCzYjb0B/JaE+UzZuQCjetxDa9m5ACNBKteoMcEBiEcMO469wQNrnjIMmHnFAna+juzVicUCFYLB2T2ZxQAJlU64wfXBA75HNVTPwcEDkV2JU6AdxQEuyaQCKPXFASzVY3Y9YdUBromwdXiB1QJAbGw3i4nRAcBnD3jxadEA9ALG+RBp1QEjHcp7TJ3VAFL4IZNDmdEDQw+DM1WJ0QISIDmBVxnNATycTlswrc0B/6qvtrt5yQBIIIijah3NAarl1Lw6dc0CuPqqje/1yQGhkRi4+p3JAjk8SXMaQckDB6iNLEZpyQJotcrIRHnJAocDYzslSckBNkIWmxEtyQBws1k8zw3FAhGqcsIE7cUCpklToJBhxQJKIW8s14nBALE5S7GpWcEDIBYj+IIhvQJTWQj07/G1ALPVNFs7jbED8fMZLePprQEgau8gt8mtA\",\"dtype\":\"float64\",\"order\":\"little\",\"shape\":[60]}},\"selected\":{\"id\":\"6552\"},\"selection_policy\":{\"id\":\"6568\"}},\"id\":\"6551\",\"type\":\"ColumnDataSource\"},{\"attributes\":{},\"id\":\"6516\",\"type\":\"BasicTickFormatter\"},{\"attributes\":{\"num_minor_ticks\":5,\"tickers\":[{\"id\":\"6536\"},{\"id\":\"6537\"},{\"id\":\"6538\"},{\"id\":\"6539\"},{\"id\":\"6540\"},{\"id\":\"6541\"},{\"id\":\"6542\"},{\"id\":\"6543\"},{\"id\":\"6544\"},{\"id\":\"6545\"},{\"id\":\"6546\"},{\"id\":\"6547\"}]},\"id\":\"6492\",\"type\":\"DatetimeTicker\"},{\"attributes\":{\"axis\":{\"id\":\"6491\"},\"coordinates\":null,\"grid_line_color\":null,\"group\":null,\"ticker\":null},\"id\":\"6494\",\"type\":\"Grid\"},{\"attributes\":{\"data\":{\"x\":{\"__ndarray__\":\"AACA53JeYkIAAAANaUljQgAAgDJfNGRCAACAI/ofZUIAAABJ8ApmQgAAgG7m9WZCAAAAlNzgZ0IAAACFd8xoQgAAgKptt2lCAAAA0GOiakIAAID1WY1rQgAAgOb0eGxCAAAADOtjbUIAAIAx4U5uQgAAAFfXOW9CAAAAJLkScEIAAMA2NIhwQgAAgEmv/XBCAABAXCpzcUIAAMDU9+hxQgAAgOdyXnJCAABA+u3TckIAAAANaUlzQgAAgIU2v3NCAABAmLE0dEIAAACrLKp0QgAAwL2nH3VCAABANnWVdUIAAABJ8Ap2QgAAwFtrgHZCAADAW2uAdkIAAABJ8Ap2QgAAQDZ1lXVCAADAvacfdUIAAACrLKp0QgAAQJixNHRCAACAhTa/c0IAAAANaUlzQgAAQPrt03JCAACA53JeckIAAMDU9+hxQgAAQFwqc3FCAACASa/9cEIAAMA2NIhwQgAAACS5EnBCAAAAV9c5b0IAAIAx4U5uQgAAAAzrY21CAACA5vR4bEIAAID1WY1rQgAAANBjompCAACAqm23aUIAAACFd8xoQgAAAJTc4GdCAACAbub1ZkIAAABJ8ApmQgAAgCP6H2VCAACAMl80ZEIAAAANaUljQgAAgOdyXmJC\",\"dtype\":\"float64\",\"order\":\"little\",\"shape\":[60]},\"y\":{\"__ndarray__\":\"AAAAAAAAAAAAAAAAAAAAAAAAAAAAAAAAAAAAAAAAAAAAAAAAAAAAAAAAAAAAAAAAAAAAAAAAAAAAAAAAAAAAAAAAAAAAAAAAAAAAAAAAAAAAAAAAAAAAAAAAAAAAAAAAAAAAAAAAAAAAAAAAAAAAAAAAAAAAAAAAAAAAAAAAAAAAAAAAAAAAAAAAAAAAAAAAAAAAAAAAAAAAAAAAAAAAAAAAAAAAAAAAAAAAAAAAAAAAAAAAAAAAAAAAAAAAAAAAAAAAAAAAAAAAAAAAAAAAAAAAAAAAAAAAAAAAAAAAAAAAAAAAAAAAAAAAAAAAAAAAS7JpAIo9cUDkV2JU6AdxQO+RzVUz8HBAAmVTrjB9cECFYLB2T2ZxQJ2vo7s1YnFA2ueMgyYecUBiEcMO469wQAjQSrXqDHBAKN63ENr2bkB/JaE+UzZuQNjHVAs2I29AXe7dMBtjb0A/BoYHKCtuQNQRG4dVb21A5is3Bz4EbUCEat7MA05tQDtYWqEjUmxAynZ0EkBbbEDx4x4B0ndsQAQ3UrYIiGtAKtcl9MSrakDynyQT5odqQPHNgMRA/mlASYWxhSAnaUCps6TtKYVoQIFv5MsVV2dAHx/jQL6fZkA50hkYOZ5lQKPW6mEeeWVA\",\"dtype\":\"float64\",\"order\":\"little\",\"shape\":[60]}},\"selected\":{\"id\":\"6519\"},\"selection_policy\":{\"id\":\"6533\"}},\"id\":\"6518\",\"type\":\"ColumnDataSource\"},{\"attributes\":{},\"id\":\"6513\",\"type\":\"DatetimeTickFormatter\"},{\"attributes\":{\"months\":[0,4,8]},\"id\":\"6545\",\"type\":\"MonthsTicker\"},{\"attributes\":{\"days\":[1,4,7,10,13,16,19,22,25,28]},\"id\":\"6540\",\"type\":\"DaysTicker\"},{\"attributes\":{\"axis_label\":\"Year\",\"coordinates\":null,\"formatter\":{\"id\":\"6513\"},\"group\":null,\"major_label_policy\":{\"id\":\"6514\"},\"ticker\":{\"id\":\"6492\"}},\"id\":\"6491\",\"type\":\"DatetimeAxis\"},{\"attributes\":{},\"id\":\"6517\",\"type\":\"AllLabels\"},{\"attributes\":{},\"id\":\"6547\",\"type\":\"YearsTicker\"},{\"attributes\":{\"days\":[1,8,15,22]},\"id\":\"6541\",\"type\":\"DaysTicker\"},{\"attributes\":{\"children\":[{\"id\":\"6469\"},{\"id\":\"6482\"},{\"id\":\"7289\"}],\"margin\":[0,0,0,0],\"name\":\"Row10645\",\"tags\":[\"embedded\"]},\"id\":\"6468\",\"type\":\"Row\"},{\"attributes\":{\"mantissas\":[1,2,5],\"max_interval\":500.0,\"num_minor_ticks\":0},\"id\":\"6536\",\"type\":\"AdaptiveTicker\"},{\"attributes\":{},\"id\":\"6514\",\"type\":\"AllLabels\"},{\"attributes\":{\"base\":60,\"mantissas\":[1,2,5,10,15,20,30],\"max_interval\":1800000.0,\"min_interval\":1000.0,\"num_minor_ticks\":0},\"id\":\"6537\",\"type\":\"AdaptiveTicker\"},{\"attributes\":{\"click_policy\":\"mute\",\"coordinates\":null,\"group\":null,\"items\":[{\"id\":\"6549\"},{\"id\":\"6583\"},{\"id\":\"6619\"},{\"id\":\"6657\"},{\"id\":\"6697\"},{\"id\":\"6739\"},{\"id\":\"6783\"},{\"id\":\"6829\"},{\"id\":\"6877\"},{\"id\":\"6927\"}],\"location\":[0,0],\"title\":\"Region\"},\"id\":\"6548\",\"type\":\"Legend\"},{\"attributes\":{\"fill_color\":\"#1f77b4\",\"hatch_color\":\"#1f77b4\",\"x\":{\"field\":\"x\"},\"y\":{\"field\":\"y\"}},\"id\":\"6878\",\"type\":\"Patch\"},{\"attributes\":{\"days\":[1,2,3,4,5,6,7,8,9,10,11,12,13,14,15,16,17,18,19,20,21,22,23,24,25,26,27,28,29,30,31]},\"id\":\"6539\",\"type\":\"DaysTicker\"},{\"attributes\":{\"base\":24,\"mantissas\":[1,2,4,6,8,12],\"max_interval\":43200000.0,\"min_interval\":3600000.0,\"num_minor_ticks\":0},\"id\":\"6538\",\"type\":\"AdaptiveTicker\"},{\"attributes\":{\"coordinates\":null,\"data_source\":{\"id\":\"6518\"},\"glyph\":{\"id\":\"6521\"},\"group\":null,\"hover_glyph\":null,\"muted_glyph\":{\"id\":\"6523\"},\"nonselection_glyph\":{\"id\":\"6522\"},\"selection_glyph\":{\"id\":\"6550\"},\"view\":{\"id\":\"6525\"}},\"id\":\"6524\",\"type\":\"GlyphRenderer\"},{\"attributes\":{\"margin\":[5,5,5,5],\"name\":\"HSpacer10649\",\"sizing_mode\":\"stretch_width\"},\"id\":\"6469\",\"type\":\"Spacer\"},{\"attributes\":{\"fill_alpha\":1,\"fill_color\":\"#e377c2\",\"hatch_alpha\":0.1,\"hatch_color\":\"#e377c2\",\"line_alpha\":1,\"x\":{\"field\":\"x\"},\"y\":{\"field\":\"y\"}},\"id\":\"6883\",\"type\":\"Patch\"},{\"attributes\":{\"fill_alpha\":0.2,\"fill_color\":\"#30a2da\",\"hatch_alpha\":0.2,\"hatch_color\":\"#30a2da\",\"line_alpha\":0.2,\"x\":{\"field\":\"x\"},\"y\":{\"field\":\"y\"}},\"id\":\"6523\",\"type\":\"Patch\"},{\"attributes\":{\"end\":823.1476662287998,\"reset_end\":823.1476662287998,\"reset_start\":-74.83160602079998,\"start\":-74.83160602079998,\"tags\":[[[\"CO2eq\",\"CO2eq\",null]]]},\"id\":\"6471\",\"type\":\"Range1d\"},{\"attributes\":{\"fill_color\":\"#e377c2\",\"hatch_color\":\"#e377c2\",\"x\":{\"field\":\"x\"},\"y\":{\"field\":\"y\"}},\"id\":\"6882\",\"type\":\"Patch\"},{\"attributes\":{},\"id\":\"6880\",\"type\":\"Selection\"},{\"attributes\":{\"fill_alpha\":0.2,\"fill_color\":\"#e377c2\",\"hatch_alpha\":0.2,\"hatch_color\":\"#e377c2\",\"line_alpha\":0.2,\"x\":{\"field\":\"x\"},\"y\":{\"field\":\"y\"}},\"id\":\"6884\",\"type\":\"Patch\"},{\"attributes\":{},\"id\":\"6503\",\"type\":\"ResetTool\"},{\"attributes\":{\"label\":{\"value\":\"Saskatchewan\"},\"renderers\":[{\"id\":\"6885\"}]},\"id\":\"6927\",\"type\":\"LegendItem\"},{\"attributes\":{\"coordinates\":null,\"data_source\":{\"id\":\"6879\"},\"glyph\":{\"id\":\"6882\"},\"group\":null,\"hover_glyph\":null,\"muted_glyph\":{\"id\":\"6884\"},\"nonselection_glyph\":{\"id\":\"6883\"},\"selection_glyph\":{\"id\":\"6928\"},\"view\":{\"id\":\"6886\"}},\"id\":\"6885\",\"type\":\"GlyphRenderer\"},{\"attributes\":{},\"id\":\"6499\",\"type\":\"SaveTool\"},{\"attributes\":{\"months\":[0,6]},\"id\":\"6546\",\"type\":\"MonthsTicker\"},{\"attributes\":{\"source\":{\"id\":\"6879\"}},\"id\":\"6886\",\"type\":\"CDSView\"},{\"attributes\":{\"end\":1546300800000.0,\"reset_end\":1546300800000.0,\"reset_start\":631152000000.0,\"start\":631152000000.0,\"tags\":[[[\"Year\",\"Year\",null]]]},\"id\":\"6470\",\"type\":\"Range1d\"},{\"attributes\":{\"fill_color\":\"#e377c2\",\"hatch_color\":\"#e377c2\",\"x\":{\"field\":\"x\"},\"y\":{\"field\":\"y\"}},\"id\":\"6928\",\"type\":\"Patch\"},{\"attributes\":{},\"id\":\"6912\",\"type\":\"UnionRenderers\"},{\"attributes\":{\"days\":[1,15]},\"id\":\"6542\",\"type\":\"DaysTicker\"},{\"attributes\":{},\"id\":\"6519\",\"type\":\"Selection\"},{\"attributes\":{\"source\":{\"id\":\"6518\"}},\"id\":\"6525\",\"type\":\"CDSView\"},{\"attributes\":{\"callback\":null,\"formatters\":{\"@{x}\":\"datetime\"},\"renderers\":[{\"id\":\"6524\"},{\"id\":\"6557\"},{\"id\":\"6591\"},{\"id\":\"6627\"},{\"id\":\"6665\"},{\"id\":\"6705\"},{\"id\":\"6747\"},{\"id\":\"6791\"},{\"id\":\"6837\"},{\"id\":\"6885\"}],\"tags\":[\"hv_created\"],\"tooltips\":[[\"Region\",\"@{Region}\"],[\"Year\",\"@{Year}\"],[\"CO2eq\",\"@{CO2eq}\"],[\"Baseline\",\"@{Baseline}\"]]},\"id\":\"6472\",\"type\":\"HoverTool\"},{\"attributes\":{\"tools\":[{\"id\":\"6472\"},{\"id\":\"6499\"},{\"id\":\"6500\"},{\"id\":\"6501\"},{\"id\":\"6502\"},{\"id\":\"6503\"}]},\"id\":\"6505\",\"type\":\"Toolbar\"},{\"attributes\":{\"axis_label\":\"CO2eq\",\"coordinates\":null,\"formatter\":{\"id\":\"6516\"},\"group\":null,\"major_label_policy\":{\"id\":\"6517\"},\"ticker\":{\"id\":\"6496\"}},\"id\":\"6495\",\"type\":\"LinearAxis\"},{\"attributes\":{\"fill_color\":\"#30a2da\",\"hatch_color\":\"#30a2da\",\"x\":{\"field\":\"x\"},\"y\":{\"field\":\"y\"}},\"id\":\"6521\",\"type\":\"Patch\"},{\"attributes\":{},\"id\":\"6500\",\"type\":\"PanTool\"},{\"attributes\":{\"months\":[0,2,4,6,8,10]},\"id\":\"6544\",\"type\":\"MonthsTicker\"},{\"attributes\":{},\"id\":\"6496\",\"type\":\"BasicTicker\"},{\"attributes\":{\"label\":{\"value\":\"Alberta\"},\"renderers\":[{\"id\":\"6524\"}]},\"id\":\"6549\",\"type\":\"LegendItem\"},{\"attributes\":{},\"id\":\"6487\",\"type\":\"LinearScale\"},{\"attributes\":{\"overlay\":{\"id\":\"6504\"}},\"id\":\"6502\",\"type\":\"BoxZoomTool\"},{\"attributes\":{\"margin\":[5,5,5,5],\"name\":\"HSpacer10650\",\"sizing_mode\":\"stretch_width\"},\"id\":\"7289\",\"type\":\"Spacer\"},{\"attributes\":{\"below\":[{\"id\":\"6491\"}],\"center\":[{\"id\":\"6494\"},{\"id\":\"6498\"}],\"height\":300,\"left\":[{\"id\":\"6495\"}],\"margin\":[5,5,5,5],\"min_border_bottom\":10,\"min_border_left\":10,\"min_border_right\":10,\"min_border_top\":10,\"renderers\":[{\"id\":\"6524\"},{\"id\":\"6557\"},{\"id\":\"6591\"},{\"id\":\"6627\"},{\"id\":\"6665\"},{\"id\":\"6705\"},{\"id\":\"6747\"},{\"id\":\"6791\"},{\"id\":\"6837\"},{\"id\":\"6885\"}],\"right\":[{\"id\":\"6548\"}],\"sizing_mode\":\"fixed\",\"title\":{\"id\":\"6483\"},\"toolbar\":{\"id\":\"6505\"},\"width\":700,\"x_range\":{\"id\":\"6470\"},\"x_scale\":{\"id\":\"6487\"},\"y_range\":{\"id\":\"6471\"},\"y_scale\":{\"id\":\"6489\"}},\"id\":\"6482\",\"subtype\":\"Figure\",\"type\":\"Plot\"},{\"attributes\":{},\"id\":\"6501\",\"type\":\"WheelZoomTool\"},{\"attributes\":{\"months\":[0,1,2,3,4,5,6,7,8,9,10,11]},\"id\":\"6543\",\"type\":\"MonthsTicker\"},{\"attributes\":{},\"id\":\"6489\",\"type\":\"LinearScale\"},{\"attributes\":{\"bottom_units\":\"screen\",\"coordinates\":null,\"fill_alpha\":0.5,\"fill_color\":\"lightgrey\",\"group\":null,\"left_units\":\"screen\",\"level\":\"overlay\",\"line_alpha\":1.0,\"line_color\":\"black\",\"line_dash\":[4,4],\"line_width\":2,\"right_units\":\"screen\",\"syncable\":false,\"top_units\":\"screen\"},\"id\":\"6504\",\"type\":\"BoxAnnotation\"},{\"attributes\":{\"fill_alpha\":1,\"fill_color\":\"#30a2da\",\"hatch_alpha\":0.1,\"hatch_color\":\"#30a2da\",\"line_alpha\":1,\"x\":{\"field\":\"x\"},\"y\":{\"field\":\"y\"}},\"id\":\"6522\",\"type\":\"Patch\"},{\"attributes\":{\"axis\":{\"id\":\"6495\"},\"coordinates\":null,\"dimension\":1,\"grid_line_color\":null,\"group\":null,\"ticker\":null},\"id\":\"6498\",\"type\":\"Grid\"},{\"attributes\":{},\"id\":\"6604\",\"type\":\"UnionRenderers\"},{\"attributes\":{\"fill_color\":\"#9467bd\",\"hatch_color\":\"#9467bd\",\"x\":{\"field\":\"x\"},\"y\":{\"field\":\"y\"}},\"id\":\"6784\",\"type\":\"Patch\"},{\"attributes\":{\"fill_alpha\":1,\"fill_color\":\"#d62728\",\"hatch_alpha\":0.1,\"hatch_color\":\"#d62728\",\"line_alpha\":1,\"x\":{\"field\":\"x\"},\"y\":{\"field\":\"y\"}},\"id\":\"6789\",\"type\":\"Patch\"},{\"attributes\":{\"coordinates\":null,\"data_source\":{\"id\":\"6785\"},\"glyph\":{\"id\":\"6788\"},\"group\":null,\"hover_glyph\":null,\"muted_glyph\":{\"id\":\"6790\"},\"nonselection_glyph\":{\"id\":\"6789\"},\"selection_glyph\":{\"id\":\"6830\"},\"view\":{\"id\":\"6792\"}},\"id\":\"6791\",\"type\":\"GlyphRenderer\"},{\"attributes\":{\"fill_color\":\"#30a2da\",\"hatch_color\":\"#30a2da\",\"x\":{\"field\":\"x\"},\"y\":{\"field\":\"y\"}},\"id\":\"6550\",\"type\":\"Patch\"},{\"attributes\":{\"fill_color\":\"#6d904f\",\"hatch_color\":\"#6d904f\",\"x\":{\"field\":\"x\"},\"y\":{\"field\":\"y\"}},\"id\":\"6658\",\"type\":\"Patch\"},{\"attributes\":{\"source\":{\"id\":\"6785\"}},\"id\":\"6792\",\"type\":\"CDSView\"},{\"attributes\":{\"fill_color\":\"#d62728\",\"hatch_color\":\"#d62728\",\"x\":{\"field\":\"x\"},\"y\":{\"field\":\"y\"}},\"id\":\"6830\",\"type\":\"Patch\"},{\"attributes\":{\"fill_alpha\":0.2,\"fill_color\":\"#d62728\",\"hatch_alpha\":0.2,\"hatch_color\":\"#d62728\",\"line_alpha\":0.2,\"x\":{\"field\":\"x\"},\"y\":{\"field\":\"y\"}},\"id\":\"6790\",\"type\":\"Patch\"},{\"attributes\":{},\"id\":\"6586\",\"type\":\"Selection\"},{\"attributes\":{\"fill_alpha\":1,\"fill_color\":\"#fc4f30\",\"hatch_alpha\":0.1,\"hatch_color\":\"#fc4f30\",\"line_alpha\":1,\"x\":{\"field\":\"x\"},\"y\":{\"field\":\"y\"}},\"id\":\"6555\",\"type\":\"Patch\"},{\"attributes\":{},\"id\":\"6814\",\"type\":\"UnionRenderers\"},{\"attributes\":{\"fill_alpha\":1,\"fill_color\":\"#8b8b8b\",\"hatch_alpha\":0.1,\"hatch_color\":\"#8b8b8b\",\"line_alpha\":1,\"x\":{\"field\":\"x\"},\"y\":{\"field\":\"y\"}},\"id\":\"6663\",\"type\":\"Patch\"},{\"attributes\":{},\"id\":\"6533\",\"type\":\"UnionRenderers\"},{\"attributes\":{\"data\":{\"x\":{\"__ndarray__\":\"AACA53JeYkIAAAANaUljQgAAgDJfNGRCAACAI/ofZUIAAABJ8ApmQgAAgG7m9WZCAAAAlNzgZ0IAAACFd8xoQgAAgKptt2lCAAAA0GOiakIAAID1WY1rQgAAgOb0eGxCAAAADOtjbUIAAIAx4U5uQgAAAFfXOW9CAAAAJLkScEIAAMA2NIhwQgAAgEmv/XBCAABAXCpzcUIAAMDU9+hxQgAAgOdyXnJCAABA+u3TckIAAAANaUlzQgAAgIU2v3NCAABAmLE0dEIAAACrLKp0QgAAwL2nH3VCAABANnWVdUIAAABJ8Ap2QgAAwFtrgHZCAADAW2uAdkIAAABJ8Ap2QgAAQDZ1lXVCAADAvacfdUIAAACrLKp0QgAAQJixNHRCAACAhTa/c0IAAAANaUlzQgAAQPrt03JCAACA53JeckIAAMDU9+hxQgAAQFwqc3FCAACASa/9cEIAAMA2NIhwQgAAACS5EnBCAAAAV9c5b0IAAIAx4U5uQgAAAAzrY21CAACA5vR4bEIAAID1WY1rQgAAANBjompCAACAqm23aUIAAACFd8xoQgAAAJTc4GdCAACAbub1ZkIAAABJ8ApmQgAAgCP6H2VCAACAMl80ZEIAAAANaUljQgAAgOdyXmJC\",\"dtype\":\"float64\",\"order\":\"little\",\"shape\":[60]},\"y\":{\"__ndarray__\":\"WP53oi75cUCHNeaM4NZxQCUG+KO9YnJAmKbnYTHmckCYqqxU5bNzQLMwyoduanRA83hzG+n9dECu+8SKdW11QHRjtG0MvnVACtFe0wQudkALVJk+aOZ2QLhM9YAj83ZAhHvpFi/FdkDGpjIYJVt3QFMegk9IdHdAjxT8/NhMd0Bds/BQz4R3QLLx3FJpV3hAAlRIZJUCeED3Utv6ly93QKKtYb6gcXdArUBfQCAZeEBTat2jqoh4QNFQbp687XhAbOLs788OeUBnm3aMJgV5QIzszgOtRHhAhsqm+XbPeEBAdP9gmRx5QF0hxWPDPnlAMtLFhT+5gUC4dFCyyqmBQASwIh97VIFAOIMBfA4sgUAcy7vqkZmBQMtKckQ3poFAiD9nK5O5gUA6oxjmpYaBQGSfdOCsdYFA+Pt+lyUrgUCNaTvgMcyAQHUBkl2P/oFAgC3I+XdtgkC/3lirAeWBQNVOQTzaE4JAIYfSKJYngkDwj84rVC6CQAVXcZFI0YFA2i+Y8ovEgUAoRggiygCCQOdqHMseV4FAZJ19J3b2gEDLhLAxP8iAQKi2xF8xbIBAprKd+Zm1f0DQi2anj6t+QCQcSFHGuH1AZAL1mx7RfUBCMiT0YQ59QILspqjzOX1A\",\"dtype\":\"float64\",\"order\":\"little\",\"shape\":[60]}},\"selected\":{\"id\":\"6742\"},\"selection_policy\":{\"id\":\"6768\"}},\"id\":\"6741\",\"type\":\"ColumnDataSource\"},{\"attributes\":{\"fill_color\":\"#fc4f30\",\"hatch_color\":\"#fc4f30\",\"x\":{\"field\":\"x\"},\"y\":{\"field\":\"y\"}},\"id\":\"6554\",\"type\":\"Patch\"},{\"attributes\":{\"label\":{\"value\":\"Prince Edward Island\"},\"renderers\":[{\"id\":\"6791\"}]},\"id\":\"6829\",\"type\":\"LegendItem\"},{\"attributes\":{\"fill_color\":\"#8b8b8b\",\"hatch_color\":\"#8b8b8b\",\"x\":{\"field\":\"x\"},\"y\":{\"field\":\"y\"}},\"id\":\"6662\",\"type\":\"Patch\"},{\"attributes\":{},\"id\":\"6552\",\"type\":\"Selection\"},{\"attributes\":{\"fill_alpha\":0.2,\"fill_color\":\"#fc4f30\",\"hatch_alpha\":0.2,\"hatch_color\":\"#fc4f30\",\"line_alpha\":0.2,\"x\":{\"field\":\"x\"},\"y\":{\"field\":\"y\"}},\"id\":\"6556\",\"type\":\"Patch\"},{\"attributes\":{},\"id\":\"6660\",\"type\":\"Selection\"},{\"attributes\":{\"fill_alpha\":0.2,\"fill_color\":\"#8b8b8b\",\"hatch_alpha\":0.2,\"hatch_color\":\"#8b8b8b\",\"line_alpha\":0.2,\"x\":{\"field\":\"x\"},\"y\":{\"field\":\"y\"}},\"id\":\"6664\",\"type\":\"Patch\"},{\"attributes\":{\"label\":{\"value\":\"British Columbia\"},\"renderers\":[{\"id\":\"6557\"}]},\"id\":\"6583\",\"type\":\"LegendItem\"},{\"attributes\":{\"coordinates\":null,\"data_source\":{\"id\":\"6551\"},\"glyph\":{\"id\":\"6554\"},\"group\":null,\"hover_glyph\":null,\"muted_glyph\":{\"id\":\"6556\"},\"nonselection_glyph\":{\"id\":\"6555\"},\"selection_glyph\":{\"id\":\"6584\"},\"view\":{\"id\":\"6558\"}},\"id\":\"6557\",\"type\":\"GlyphRenderer\"},{\"attributes\":{\"label\":{\"value\":\"Newfoundland and Labrador\"},\"renderers\":[{\"id\":\"6665\"}]},\"id\":\"6697\",\"type\":\"LegendItem\"},{\"attributes\":{\"coordinates\":null,\"data_source\":{\"id\":\"6659\"},\"glyph\":{\"id\":\"6662\"},\"group\":null,\"hover_glyph\":null,\"muted_glyph\":{\"id\":\"6664\"},\"nonselection_glyph\":{\"id\":\"6663\"},\"selection_glyph\":{\"id\":\"6698\"},\"view\":{\"id\":\"6666\"}},\"id\":\"6665\",\"type\":\"GlyphRenderer\"},{\"attributes\":{\"source\":{\"id\":\"6551\"}},\"id\":\"6558\",\"type\":\"CDSView\"},{\"attributes\":{\"fill_color\":\"#fc4f30\",\"hatch_color\":\"#fc4f30\",\"x\":{\"field\":\"x\"},\"y\":{\"field\":\"y\"}},\"id\":\"6584\",\"type\":\"Patch\"},{\"attributes\":{\"source\":{\"id\":\"6659\"}},\"id\":\"6666\",\"type\":\"CDSView\"},{\"attributes\":{\"fill_color\":\"#8b8b8b\",\"hatch_color\":\"#8b8b8b\",\"x\":{\"field\":\"x\"},\"y\":{\"field\":\"y\"}},\"id\":\"6698\",\"type\":\"Patch\"},{\"attributes\":{},\"id\":\"6682\",\"type\":\"UnionRenderers\"},{\"attributes\":{},\"id\":\"6568\",\"type\":\"UnionRenderers\"},{\"attributes\":{\"data\":{\"x\":{\"__ndarray__\":\"AACA53JeYkIAAAANaUljQgAAgDJfNGRCAACAI/ofZUIAAABJ8ApmQgAAgG7m9WZCAAAAlNzgZ0IAAACFd8xoQgAAgKptt2lCAAAA0GOiakIAAID1WY1rQgAAgOb0eGxCAAAADOtjbUIAAIAx4U5uQgAAAFfXOW9CAAAAJLkScEIAAMA2NIhwQgAAgEmv/XBCAABAXCpzcUIAAMDU9+hxQgAAgOdyXnJCAABA+u3TckIAAAANaUlzQgAAgIU2v3NCAABAmLE0dEIAAACrLKp0QgAAwL2nH3VCAABANnWVdUIAAABJ8Ap2QgAAwFtrgHZCAADAW2uAdkIAAABJ8Ap2QgAAQDZ1lXVCAADAvacfdUIAAACrLKp0QgAAQJixNHRCAACAhTa/c0IAAAANaUlzQgAAQPrt03JCAACA53JeckIAAMDU9+hxQgAAQFwqc3FCAACASa/9cEIAAMA2NIhwQgAAACS5EnBCAAAAV9c5b0IAAIAx4U5uQgAAAAzrY21CAACA5vR4bEIAAID1WY1rQgAAANBjompCAACAqm23aUIAAACFd8xoQgAAAJTc4GdCAACAbub1ZkIAAABJ8ApmQgAAgCP6H2VCAACAMl80ZEIAAAANaUljQgAAgOdyXmJC\",\"dtype\":\"float64\",\"order\":\"little\",\"shape\":[60]},\"y\":{\"__ndarray__\":\"ZMekkc9XfUABuO/XcCt9QL7ITdJB7n1AXl/N/PDVfUCLbMumCsl+QHfHRkYt039AqbtmfaR7gEA/hvFHO9iAQEBBLBJMBoFADh3GmuVmgUBX573WohGCQJyGc9CX1IFABSfnM3ThgUClTi4wGT+CQMTBcymJOIJAga2bHTAkgkAJuLW/zvSBQJ44S4yvfYJAGRgeoBAOgkD+ASqqi9uAQG6tJ6G1OoFAum9hT56GgUCzaYFKAJeBQMlNOrWKx4FAppZAWd+zgUBCdwLH0aaBQJKPnqHaOYFA9CmLuGxigUCEeI/5nbeBQDFBltBMx4FARpuFa+FkhECxYPJxn0uEQMCrJeq764NAAA5JSb2xg0AnjzeR6h+EQEt8efcrLYRAP/Cg9S5RhEBaKpUOMx+EQB+qcp/JG4RAJONiVoW+g0C6zONCM3WDQF5lr28Ot4RAXo0CMEU5hUD12UPzG6KEQARYK63H4IRAB4QQb9UThUDwmWZmxBaFQBhxofWPkoRAVCmUikh3hEAoimc7vMWEQK659EbdGIRAenscdey2g0DsTIDl5YKDQPMHbbP5MYNAzTB5+e2UgkDGTqhC7BWCQL6KdXJWioFAUON2GWKLgUDQnq9/8SeBQCe7J3zfXoFA\",\"dtype\":\"float64\",\"order\":\"little\",\"shape\":[60]}},\"selected\":{\"id\":\"6832\"},\"selection_policy\":{\"id\":\"6862\"}},\"id\":\"6831\",\"type\":\"ColumnDataSource\"},{\"attributes\":{\"fill_color\":\"#17becf\",\"hatch_color\":\"#17becf\",\"x\":{\"field\":\"x\"},\"y\":{\"field\":\"y\"}},\"id\":\"6740\",\"type\":\"Patch\"},{\"attributes\":{\"fill_color\":\"#e5ae38\",\"hatch_color\":\"#e5ae38\",\"x\":{\"field\":\"x\"},\"y\":{\"field\":\"y\"}},\"id\":\"6620\",\"type\":\"Patch\"},{\"attributes\":{\"label\":{\"value\":\"Ontario\"},\"renderers\":[{\"id\":\"6747\"}]},\"id\":\"6783\",\"type\":\"LegendItem\"},{\"attributes\":{\"fill_alpha\":1,\"fill_color\":\"#9467bd\",\"hatch_alpha\":0.1,\"hatch_color\":\"#9467bd\",\"line_alpha\":1,\"x\":{\"field\":\"x\"},\"y\":{\"field\":\"y\"}},\"id\":\"6745\",\"type\":\"Patch\"},{\"attributes\":{\"fill_alpha\":1,\"fill_color\":\"#6d904f\",\"hatch_alpha\":0.1,\"hatch_color\":\"#6d904f\",\"line_alpha\":1,\"x\":{\"field\":\"x\"},\"y\":{\"field\":\"y\"}},\"id\":\"6625\",\"type\":\"Patch\"},{\"attributes\":{\"fill_color\":\"#9467bd\",\"hatch_color\":\"#9467bd\",\"x\":{\"field\":\"x\"},\"y\":{\"field\":\"y\"}},\"id\":\"6744\",\"type\":\"Patch\"},{\"attributes\":{\"data\":{\"x\":{\"__ndarray__\":\"AACA53JeYkIAAAANaUljQgAAgDJfNGRCAACAI/ofZUIAAABJ8ApmQgAAgG7m9WZCAAAAlNzgZ0IAAACFd8xoQgAAgKptt2lCAAAA0GOiakIAAID1WY1rQgAAgOb0eGxCAAAADOtjbUIAAIAx4U5uQgAAAFfXOW9CAAAAJLkScEIAAMA2NIhwQgAAgEmv/XBCAABAXCpzcUIAAMDU9+hxQgAAgOdyXnJCAABA+u3TckIAAAANaUlzQgAAgIU2v3NCAABAmLE0dEIAAACrLKp0QgAAwL2nH3VCAABANnWVdUIAAABJ8Ap2QgAAwFtrgHZCAADAW2uAdkIAAABJ8Ap2QgAAQDZ1lXVCAADAvacfdUIAAACrLKp0QgAAQJixNHRCAACAhTa/c0IAAAANaUlzQgAAQPrt03JCAACA53JeckIAAMDU9+hxQgAAQFwqc3FCAACASa/9cEIAAMA2NIhwQgAAACS5EnBCAAAAV9c5b0IAAIAx4U5uQgAAAAzrY21CAACA5vR4bEIAAID1WY1rQgAAANBjompCAACAqm23aUIAAACFd8xoQgAAAJTc4GdCAACAbub1ZkIAAABJ8ApmQgAAgCP6H2VCAACAMl80ZEIAAAANaUljQgAAgOdyXmJC\",\"dtype\":\"float64\",\"order\":\"little\",\"shape\":[60]},\"y\":{\"__ndarray__\":\"guymqPM5fUBCMiT0YQ59QGQC9Zse0X1AJBxIUca4fUDQi2anj6t+QKaynfmZtX9AqLbEXzFsgEDLhLAxP8iAQGSdfSd29oBA52ocyx5XgUAoRggiygCCQNovmPKLxIFABVdxkUjRgUDwj84rVC6CQCGH0iiWJ4JA1U5BPNoTgkC/3lirAeWBQIAtyPl3bYJAdQGSXY/+gUCNaTvgMcyAQPj7fpclK4FAZJ904Kx1gUA6oxjmpYaBQIg/ZyuTuYFAy0pyRDemgUAcy7vqkZmBQDiDAXwOLIFABLAiH3tUgUC4dFCyyqmBQDLSxYU/uYFAMUGW0EzHgUCEeI/5nbeBQPQpi7hsYoFAko+eodo5gUBCdwLH0aaBQKaWQFnfs4FAyU06tYrHgUCzaYFKAJeBQLpvYU+ehoFAbq0nobU6gUD+ASqqi9uAQBkYHqAQDoJAnjhLjK99gkAJuLW/zvSBQIGtmx0wJIJAxMFzKYk4gkClTi4wGT+CQAUn5zN04YFAnIZz0JfUgUBX573WohGCQA4dxprlZoFAQEEsEkwGgUA/hvFHO9iAQKm7Zn2ke4BAd8dGRi3Tf0CLbMumCsl+QF5fzfzw1X1AvshN0kHufUABuO/XcCt9QGTHpJHPV31A\",\"dtype\":\"float64\",\"order\":\"little\",\"shape\":[60]}},\"selected\":{\"id\":\"6786\"},\"selection_policy\":{\"id\":\"6814\"}},\"id\":\"6785\",\"type\":\"ColumnDataSource\"},{\"attributes\":{\"data\":{\"x\":{\"__ndarray__\":\"AACA53JeYkIAAAANaUljQgAAgDJfNGRCAACAI/ofZUIAAABJ8ApmQgAAgG7m9WZCAAAAlNzgZ0IAAACFd8xoQgAAgKptt2lCAAAA0GOiakIAAID1WY1rQgAAgOb0eGxCAAAADOtjbUIAAIAx4U5uQgAAAFfXOW9CAAAAJLkScEIAAMA2NIhwQgAAgEmv/XBCAABAXCpzcUIAAMDU9+hxQgAAgOdyXnJCAABA+u3TckIAAAANaUlzQgAAgIU2v3NCAABAmLE0dEIAAACrLKp0QgAAwL2nH3VCAABANnWVdUIAAABJ8Ap2QgAAwFtrgHZCAADAW2uAdkIAAABJ8Ap2QgAAQDZ1lXVCAADAvacfdUIAAACrLKp0QgAAQJixNHRCAACAhTa/c0IAAAANaUlzQgAAQPrt03JCAACA53JeckIAAMDU9+hxQgAAQFwqc3FCAACASa/9cEIAAMA2NIhwQgAAACS5EnBCAAAAV9c5b0IAAIAx4U5uQgAAAAzrY21CAACA5vR4bEIAAID1WY1rQgAAANBjompCAACAqm23aUIAAACFd8xoQgAAAJTc4GdCAACAbub1ZkIAAABJ8ApmQgAAgCP6H2VCAACAMl80ZEIAAAANaUljQgAAgOdyXmJC\",\"dtype\":\"float64\",\"order\":\"little\",\"shape\":[60]},\"y\":{\"__ndarray__\":\"JmFTpcUmcECfsx4hpxpwQCDQusICoXBARMWTOKYhcUD1d0LxiwZyQPsEcZrlrnJAl64e/65Ac0B1Ejp915pzQLtgkdvG03NALyBqkSNIdEDHjjr4ce10QOWnigyf+3RA6vX+cZi5dECZWwgPdjl1QILoxWAAQ3VApqNWdxAydUA0oGLF7oR1QO8tUWJsLXZA+8hSkGQDdkDIKgAhbUJ1QCVV/FvpinVAZOsZwjEjdkCKUBFMarZ2QJRT8TU6KXdAqtfr5aBWd0B2KBJlEkl3QOJyHy2Ml3ZALJVk21Ead0BJzngRHGF3QB4Dy3S8iXdABkbBADA7eEDHuOpTMRB4QFDiOXyezHdApK8YXDBLd0A/KHuNZfl3QJtTLCurBXhAtbGLAnLId0BKdBqSyFN3QEIJEl/mx3ZA6qMwSNoqdkAtCQ43meN1QCg8cOdFrXZAe90av+3edkDVcUbe4yZ2QN7281xl2nVA7vlQWOj0dUDOjF0mo/Z1QL7QTMWQeXVAHg0Nr/eadUDhwQpIT4F1QP9UOiof43RABIVqGAh+dECJ+GNn1S90QJuiKyq9zHNAIyIW4BQ5c0CbqwdIE4FyQOPsjKX+qnFAD7DVbO0ncUBBIHQpvqJwQGSsMUaOv3BA\",\"dtype\":\"float64\",\"order\":\"little\",\"shape\":[60]}},\"selected\":{\"id\":\"6660\"},\"selection_policy\":{\"id\":\"6682\"}},\"id\":\"6659\",\"type\":\"ColumnDataSource\"},{\"attributes\":{},\"id\":\"6742\",\"type\":\"Selection\"},{\"attributes\":{\"fill_alpha\":0.2,\"fill_color\":\"#9467bd\",\"hatch_alpha\":0.2,\"hatch_color\":\"#9467bd\",\"line_alpha\":0.2,\"x\":{\"field\":\"x\"},\"y\":{\"field\":\"y\"}},\"id\":\"6746\",\"type\":\"Patch\"},{\"attributes\":{},\"id\":\"6786\",\"type\":\"Selection\"},{\"attributes\":{\"coordinates\":null,\"data_source\":{\"id\":\"6741\"},\"glyph\":{\"id\":\"6744\"},\"group\":null,\"hover_glyph\":null,\"muted_glyph\":{\"id\":\"6746\"},\"nonselection_glyph\":{\"id\":\"6745\"},\"selection_glyph\":{\"id\":\"6784\"},\"view\":{\"id\":\"6748\"}},\"id\":\"6747\",\"type\":\"GlyphRenderer\"},{\"attributes\":{\"fill_color\":\"#6d904f\",\"hatch_color\":\"#6d904f\",\"x\":{\"field\":\"x\"},\"y\":{\"field\":\"y\"}},\"id\":\"6624\",\"type\":\"Patch\"},{\"attributes\":{\"source\":{\"id\":\"6741\"}},\"id\":\"6748\",\"type\":\"CDSView\"},{\"attributes\":{},\"id\":\"6622\",\"type\":\"Selection\"},{\"attributes\":{\"fill_alpha\":0.2,\"fill_color\":\"#6d904f\",\"hatch_alpha\":0.2,\"hatch_color\":\"#6d904f\",\"line_alpha\":0.2,\"x\":{\"field\":\"x\"},\"y\":{\"field\":\"y\"}},\"id\":\"6626\",\"type\":\"Patch\"},{\"attributes\":{},\"id\":\"6768\",\"type\":\"UnionRenderers\"},{\"attributes\":{\"fill_color\":\"#d62728\",\"hatch_color\":\"#d62728\",\"x\":{\"field\":\"x\"},\"y\":{\"field\":\"y\"}},\"id\":\"6788\",\"type\":\"Patch\"},{\"attributes\":{\"label\":{\"value\":\"New Brunswick\"},\"renderers\":[{\"id\":\"6627\"}]},\"id\":\"6657\",\"type\":\"LegendItem\"},{\"attributes\":{\"coordinates\":null,\"data_source\":{\"id\":\"6621\"},\"glyph\":{\"id\":\"6624\"},\"group\":null,\"hover_glyph\":null,\"muted_glyph\":{\"id\":\"6626\"},\"nonselection_glyph\":{\"id\":\"6625\"},\"selection_glyph\":{\"id\":\"6658\"},\"view\":{\"id\":\"6628\"}},\"id\":\"6627\",\"type\":\"GlyphRenderer\"},{\"attributes\":{\"source\":{\"id\":\"6621\"}},\"id\":\"6628\",\"type\":\"CDSView\"},{\"attributes\":{},\"id\":\"6642\",\"type\":\"UnionRenderers\"},{\"attributes\":{\"fill_alpha\":1,\"fill_color\":\"#1f77b4\",\"hatch_alpha\":0.1,\"hatch_color\":\"#1f77b4\",\"line_alpha\":1,\"x\":{\"field\":\"x\"},\"y\":{\"field\":\"y\"}},\"id\":\"6835\",\"type\":\"Patch\"},{\"attributes\":{\"data\":{\"x\":{\"__ndarray__\":\"AACA53JeYkIAAAANaUljQgAAgDJfNGRCAACAI/ofZUIAAABJ8ApmQgAAgG7m9WZCAAAAlNzgZ0IAAACFd8xoQgAAgKptt2lCAAAA0GOiakIAAID1WY1rQgAAgOb0eGxCAAAADOtjbUIAAIAx4U5uQgAAAFfXOW9CAAAAJLkScEIAAMA2NIhwQgAAgEmv/XBCAABAXCpzcUIAAMDU9+hxQgAAgOdyXnJCAABA+u3TckIAAAANaUlzQgAAgIU2v3NCAABAmLE0dEIAAACrLKp0QgAAwL2nH3VCAABANnWVdUIAAABJ8Ap2QgAAwFtrgHZCAADAW2uAdkIAAABJ8Ap2QgAAQDZ1lXVCAADAvacfdUIAAACrLKp0QgAAQJixNHRCAACAhTa/c0IAAAANaUlzQgAAQPrt03JCAACA53JeckIAAMDU9+hxQgAAQFwqc3FCAACASa/9cEIAAMA2NIhwQgAAACS5EnBCAAAAV9c5b0IAAIAx4U5uQgAAAAzrY21CAACA5vR4bEIAAID1WY1rQgAAANBjompCAACAqm23aUIAAACFd8xoQgAAAJTc4GdCAACAbub1ZkIAAABJ8ApmQgAAgCP6H2VCAACAMl80ZEIAAAANaUljQgAAgOdyXmJC\",\"dtype\":\"float64\",\"order\":\"little\",\"shape\":[60]},\"y\":{\"__ndarray__\":\"J7snfN9egUDQnq9/8SeBQFDjdhlii4FAvop1claKgUDGTqhC7BWCQM0wefntlIJA8wdts/kxg0DsTIDl5YKDQHp7HHXstoNArrn0Rt0YhEAoimc7vMWEQFQplIpId4RAGHGh9Y+ShEDwmWZmxBaFQAeEEG/VE4VABFgrrcfghED12UPzG6KEQF6NAjBFOYVAXmWvbw63hEC6zONCM3WDQCTjYlaFvoNAH6pyn8kbhEBaKpUOMx+EQD/woPUuUYRAS3x59ysthEAnjzeR6h+EQAAOSUm9sYNAwKsl6rvrg0CxYPJxn0uEQEabhWvhZIRABUVjVY+7hkAt45XaVa2GQJgU24GrS4ZAO/gpkU8AhkCItywxh4GGQJyoUbqffoZAiNI8UsmVhkA8InnDUlKGQF1cLApAOoZAAP9SDhvhhUBWK3ipZ5mFQAlPSyA75YZAaQeTSodih0DHho8EBbqGQL1f4TF7/4ZAjxKBCwI6h0Bo1AeIATGHQHZJ2XgJnoZAVOzpnM9+hkB4W478TteGQL6+SPumGoZAh3xY7ie1hUD7c/KeroWFQA4w4TpcIIVAzKTXfeNshEAGv9o/iduDQMAvD0g/M4NAtBxGEzAbg0BXXlojCoyCQMX1piR+uYJA\",\"dtype\":\"float64\",\"order\":\"little\",\"shape\":[60]}},\"selected\":{\"id\":\"6880\"},\"selection_policy\":{\"id\":\"6912\"}},\"id\":\"6879\",\"type\":\"ColumnDataSource\"},{\"attributes\":{},\"id\":\"6700\",\"type\":\"Selection\"},{\"attributes\":{\"fill_alpha\":1,\"fill_color\":\"#e5ae38\",\"hatch_alpha\":0.1,\"hatch_color\":\"#e5ae38\",\"line_alpha\":1,\"x\":{\"field\":\"x\"},\"y\":{\"field\":\"y\"}},\"id\":\"6589\",\"type\":\"Patch\"},{\"attributes\":{\"fill_color\":\"#1f77b4\",\"hatch_color\":\"#1f77b4\",\"x\":{\"field\":\"x\"},\"y\":{\"field\":\"y\"}},\"id\":\"6834\",\"type\":\"Patch\"},{\"attributes\":{\"fill_color\":\"#17becf\",\"hatch_color\":\"#17becf\",\"x\":{\"field\":\"x\"},\"y\":{\"field\":\"y\"}},\"id\":\"6702\",\"type\":\"Patch\"},{\"attributes\":{},\"id\":\"6832\",\"type\":\"Selection\"},{\"attributes\":{\"fill_alpha\":1,\"fill_color\":\"#17becf\",\"hatch_alpha\":0.1,\"hatch_color\":\"#17becf\",\"line_alpha\":1,\"x\":{\"field\":\"x\"},\"y\":{\"field\":\"y\"}},\"id\":\"6703\",\"type\":\"Patch\"},{\"attributes\":{\"fill_alpha\":0.2,\"fill_color\":\"#1f77b4\",\"hatch_alpha\":0.2,\"hatch_color\":\"#1f77b4\",\"line_alpha\":0.2,\"x\":{\"field\":\"x\"},\"y\":{\"field\":\"y\"}},\"id\":\"6836\",\"type\":\"Patch\"},{\"attributes\":{\"label\":{\"value\":\"Quebec\"},\"renderers\":[{\"id\":\"6837\"}]},\"id\":\"6877\",\"type\":\"LegendItem\"},{\"attributes\":{\"coordinates\":null,\"data_source\":{\"id\":\"6831\"},\"glyph\":{\"id\":\"6834\"},\"group\":null,\"hover_glyph\":null,\"muted_glyph\":{\"id\":\"6836\"},\"nonselection_glyph\":{\"id\":\"6835\"},\"selection_glyph\":{\"id\":\"6878\"},\"view\":{\"id\":\"6838\"}},\"id\":\"6837\",\"type\":\"GlyphRenderer\"},{\"attributes\":{\"data\":{\"x\":{\"__ndarray__\":\"AACA53JeYkIAAAANaUljQgAAgDJfNGRCAACAI/ofZUIAAABJ8ApmQgAAgG7m9WZCAAAAlNzgZ0IAAACFd8xoQgAAgKptt2lCAAAA0GOiakIAAID1WY1rQgAAgOb0eGxCAAAADOtjbUIAAIAx4U5uQgAAAFfXOW9CAAAAJLkScEIAAMA2NIhwQgAAgEmv/XBCAABAXCpzcUIAAMDU9+hxQgAAgOdyXnJCAABA+u3TckIAAAANaUlzQgAAgIU2v3NCAABAmLE0dEIAAACrLKp0QgAAwL2nH3VCAABANnWVdUIAAABJ8Ap2QgAAwFtrgHZCAADAW2uAdkIAAABJ8Ap2QgAAQDZ1lXVCAADAvacfdUIAAACrLKp0QgAAQJixNHRCAACAhTa/c0IAAAANaUlzQgAAQPrt03JCAACA53JeckIAAMDU9+hxQgAAQFwqc3FCAACASa/9cEIAAMA2NIhwQgAAACS5EnBCAAAAV9c5b0IAAIAx4U5uQgAAAAzrY21CAACA5vR4bEIAAID1WY1rQgAAANBjompCAACAqm23aUIAAACFd8xoQgAAAJTc4GdCAACAbub1ZkIAAABJ8ApmQgAAgCP6H2VCAACAMl80ZEIAAAANaUljQgAAgOdyXmJC\",\"dtype\":\"float64\",\"order\":\"little\",\"shape\":[60]},\"y\":{\"__ndarray__\":\"rRxzAVxFbkCGLm7Eb0FuQIGfin7hNG9AbcOsQEIncEBU+q6t5PRwQC48UCNklHFAWjQZZWgtckDDfJoPP15yQNcujkb1iXJAaoWnX8sNc0CudfOetJ5zQKu6ou+pj3NAi9hQ/3Njc0BtMk9T4OdzQFIYCMA343NAJSuWjWTxc0Bt+IoskUp0QDyz6pTz8XRAECGunK3adEBK/LxvzR10QNcei6ftZnRAIGxnTr39dEBq9+0cQa91QBWMxrEgP3ZAwTNnnhh/dkCj8G6f1G12QDnyQGThsXVAa47mp4xFdkAih7EaJZB2QN/NS6zpwnZAHgPLdLyJd0BJzngRHGF3QCyVZNtRGndA4nIfLYyXdkB2KBJlEkl3QKrX6+WgVndAlFPxNTopd0CKUBFMarZ2QGTrGcIxI3ZAJVX8W+mKdUDIKgAhbUJ1QPvIUpBkA3ZA7y1RYmwtdkA0oGLF7oR1QKajVncQMnVAgujFYABDdUCZWwgPdjl1QOr1/nGYuXRA5aeKDJ/7dEDHjjr4ce10QC8gapEjSHRAu2CR28bTc0B1Ejp915pzQJeuHv+uQHNA+wRxmuWuckD1d0LxiwZyQETFkzimIXFAINC6wgKhcECfsx4hpxpwQCZhU6XFJnBA\",\"dtype\":\"float64\",\"order\":\"little\",\"shape\":[60]}},\"selected\":{\"id\":\"6622\"},\"selection_policy\":{\"id\":\"6642\"}},\"id\":\"6621\",\"type\":\"ColumnDataSource\"},{\"attributes\":{\"label\":{\"value\":\"Nova Scotia\"},\"renderers\":[{\"id\":\"6705\"}]},\"id\":\"6739\",\"type\":\"LegendItem\"},{\"attributes\":{\"source\":{\"id\":\"6585\"}},\"id\":\"6592\",\"type\":\"CDSView\"},{\"attributes\":{\"data\":{\"x\":{\"__ndarray__\":\"AACA53JeYkIAAAANaUljQgAAgDJfNGRCAACAI/ofZUIAAABJ8ApmQgAAgG7m9WZCAAAAlNzgZ0IAAACFd8xoQgAAgKptt2lCAAAA0GOiakIAAID1WY1rQgAAgOb0eGxCAAAADOtjbUIAAIAx4U5uQgAAAFfXOW9CAAAAJLkScEIAAMA2NIhwQgAAgEmv/XBCAABAXCpzcUIAAMDU9+hxQgAAgOdyXnJCAABA+u3TckIAAAANaUlzQgAAgIU2v3NCAABAmLE0dEIAAACrLKp0QgAAwL2nH3VCAABANnWVdUIAAABJ8Ap2QgAAwFtrgHZCAADAW2uAdkIAAABJ8Ap2QgAAQDZ1lXVCAADAvacfdUIAAACrLKp0QgAAQJixNHRCAACAhTa/c0IAAAANaUlzQgAAQPrt03JCAACA53JeckIAAMDU9+hxQgAAQFwqc3FCAACASa/9cEIAAMA2NIhwQgAAACS5EnBCAAAAV9c5b0IAAIAx4U5uQgAAAAzrY21CAACA5vR4bEIAAID1WY1rQgAAANBjompCAACAqm23aUIAAACFd8xoQgAAAJTc4GdCAACAbub1ZkIAAABJ8ApmQgAAgCP6H2VCAACAMl80ZEIAAAANaUljQgAAgOdyXmJC\",\"dtype\":\"float64\",\"order\":\"little\",\"shape\":[60]},\"y\":{\"__ndarray__\":\"ZKwxRo6/cEBBIHQpvqJwQA+w1WztJ3FA4+yMpf6qcUCbqwdIE4FyQCMiFuAUOXNAm6IrKr3Mc0CJ+GNn1S90QASFahgIfnRA/1Q6Kh/jdEDhwQpIT4F1QB4NDa/3mnVAvtBMxZB5dUDOjF0mo/Z1QO75UFjo9HVA3vbzXGXadUDVcUbe4yZ2QHvdGr/t3nZAKDxw50WtdkAtCQ43meN1QOqjMEjaKnZAQgkSX+bHdkBKdBqSyFN3QLWxiwJyyHdAm1MsK6sFeEA/KHuNZfl3QKSvGFwwS3dAUOI5fJ7Md0DHuOpTMRB4QAZGwQAwO3hAXSHFY8M+eUBAdP9gmRx5QIbKpvl2z3hAjOzOA61EeEBnm3aMJgV5QGzi7O/PDnlA0VBunrzteEBTat2jqoh4QK1AX0AgGXhAoq1hvqBxd0D3Utv6ly93QAJUSGSVAnhAsvHcUmlXeEBds/BQz4R3QI8U/PzYTHdAUx6CT0h0d0DGpjIYJVt3QIR76RYvxXZAuEz1gCPzdkALVJk+aOZ2QArRXtMELnZAdGO0bQy+dUCu+8SKdW11QPN4cxvp/XRAszDKh25qdECYqqxU5bNzQJim52Ex5nJAJQb4o71ickCHNeaM4NZxQFj+d6Iu+XFA\",\"dtype\":\"float64\",\"order\":\"little\",\"shape\":[60]}},\"selected\":{\"id\":\"6700\"},\"selection_policy\":{\"id\":\"6724\"}},\"id\":\"6699\",\"type\":\"ColumnDataSource\"},{\"attributes\":{\"source\":{\"id\":\"6831\"}},\"id\":\"6838\",\"type\":\"CDSView\"},{\"attributes\":{\"fill_alpha\":0.2,\"fill_color\":\"#17becf\",\"hatch_alpha\":0.2,\"hatch_color\":\"#17becf\",\"line_alpha\":0.2,\"x\":{\"field\":\"x\"},\"y\":{\"field\":\"y\"}},\"id\":\"6704\",\"type\":\"Patch\"},{\"attributes\":{},\"id\":\"6862\",\"type\":\"UnionRenderers\"},{\"attributes\":{\"coordinates\":null,\"data_source\":{\"id\":\"6699\"},\"glyph\":{\"id\":\"6702\"},\"group\":null,\"hover_glyph\":null,\"muted_glyph\":{\"id\":\"6704\"},\"nonselection_glyph\":{\"id\":\"6703\"},\"selection_glyph\":{\"id\":\"6740\"},\"view\":{\"id\":\"6706\"}},\"id\":\"6705\",\"type\":\"GlyphRenderer\"},{\"attributes\":{\"fill_color\":\"#e5ae38\",\"hatch_color\":\"#e5ae38\",\"x\":{\"field\":\"x\"},\"y\":{\"field\":\"y\"}},\"id\":\"6588\",\"type\":\"Patch\"},{\"attributes\":{\"data\":{\"x\":{\"__ndarray__\":\"AACA53JeYkIAAAANaUljQgAAgDJfNGRCAACAI/ofZUIAAABJ8ApmQgAAgG7m9WZCAAAAlNzgZ0IAAACFd8xoQgAAgKptt2lCAAAA0GOiakIAAID1WY1rQgAAgOb0eGxCAAAADOtjbUIAAIAx4U5uQgAAAFfXOW9CAAAAJLkScEIAAMA2NIhwQgAAgEmv/XBCAABAXCpzcUIAAMDU9+hxQgAAgOdyXnJCAABA+u3TckIAAAANaUlzQgAAgIU2v3NCAABAmLE0dEIAAACrLKp0QgAAwL2nH3VCAABANnWVdUIAAABJ8Ap2QgAAwFtrgHZCAADAW2uAdkIAAABJ8Ap2QgAAQDZ1lXVCAADAvacfdUIAAACrLKp0QgAAQJixNHRCAACAhTa/c0IAAAANaUlzQgAAQPrt03JCAACA53JeckIAAMDU9+hxQgAAQFwqc3FCAACASa/9cEIAAMA2NIhwQgAAACS5EnBCAAAAV9c5b0IAAIAx4U5uQgAAAAzrY21CAACA5vR4bEIAAID1WY1rQgAAANBjompCAACAqm23aUIAAACFd8xoQgAAAJTc4GdCAACAbub1ZkIAAABJ8ApmQgAAgCP6H2VCAACAMl80ZEIAAAANaUljQgAAgOdyXmJC\",\"dtype\":\"float64\",\"order\":\"little\",\"shape\":[60]},\"y\":{\"__ndarray__\":\"SBq7yC3ya0D8fMZLePprQCz1TRbO42xAlNZCPTv8bUDIBYj+IIhvQCxOUuxqVnBAkohbyzXicECpklToJBhxQIRqnLCBO3FAHCzWTzPDcUBNkIWmxEtyQKHA2M7JUnJAmi1yshEeckDB6iNLEZpyQI5PElzGkHJAaGRGLj6nckCuPqqje/1yQGq5dS8OnXNAEggiKNqHc0B/6qvtrt5yQE8nE5bMK3NAhIgOYFXGc0DQw+DM1WJ0QBS+CGTQ5nRASMdyntMndUA9ALG+RBp1QHAZw948WnRAkBsbDeLidEBromwdXiB1QEs1WN2PWHVA381LrOnCdkAih7EaJZB2QGuO5qeMRXZAOfJAZOGxdUCj8G6f1G12QMEzZ54Yf3ZAFYzGsSA/dkBq9+0cQa91QCBsZ069/XRA1x6Lp+1mdEBK/LxvzR10QBAhrpyt2nRAPLPqlPPxdEBt+IoskUp0QCUrlo1k8XNAUhgIwDfjc0BtMk9T4OdzQIvYUP9zY3NAq7qi76mPc0CudfOetJ5zQGqFp1/LDXNA1y6ORvWJckDDfJoPP15yQFo0GWVoLXJALjxQI2SUcUBU+q6t5PRwQG3DrEBCJ3BAgZ+KfuE0b0CGLm7Eb0FuQK0ccwFcRW5A\",\"dtype\":\"float64\",\"order\":\"little\",\"shape\":[60]}},\"selected\":{\"id\":\"6586\"},\"selection_policy\":{\"id\":\"6604\"}},\"id\":\"6585\",\"type\":\"ColumnDataSource\"},{\"attributes\":{\"source\":{\"id\":\"6699\"}},\"id\":\"6706\",\"type\":\"CDSView\"},{\"attributes\":{\"fill_alpha\":0.2,\"fill_color\":\"#e5ae38\",\"hatch_alpha\":0.2,\"hatch_color\":\"#e5ae38\",\"line_alpha\":0.2,\"x\":{\"field\":\"x\"},\"y\":{\"field\":\"y\"}},\"id\":\"6590\",\"type\":\"Patch\"},{\"attributes\":{},\"id\":\"6724\",\"type\":\"UnionRenderers\"},{\"attributes\":{\"coordinates\":null,\"data_source\":{\"id\":\"6585\"},\"glyph\":{\"id\":\"6588\"},\"group\":null,\"hover_glyph\":null,\"muted_glyph\":{\"id\":\"6590\"},\"nonselection_glyph\":{\"id\":\"6589\"},\"selection_glyph\":{\"id\":\"6620\"},\"view\":{\"id\":\"6592\"}},\"id\":\"6591\",\"type\":\"GlyphRenderer\"},{\"attributes\":{\"label\":{\"value\":\"Manitoba\"},\"renderers\":[{\"id\":\"6591\"}]},\"id\":\"6619\",\"type\":\"LegendItem\"}],\"root_ids\":[\"6468\"]},\"title\":\"Bokeh Application\",\"version\":\"2.4.1\"}};\n",
       "    var render_items = [{\"docid\":\"bb3969e3-9306-4864-8ef9-92f9fc87ffa2\",\"root_ids\":[\"6468\"],\"roots\":{\"6468\":\"62b94096-0150-4522-860b-d23e2287899e\"}}];\n",
       "    root.Bokeh.embed.embed_items_notebook(docs_json, render_items);\n",
       "  }\n",
       "  if (root.Bokeh !== undefined && root.Bokeh.Panel !== undefined) {\n",
       "    embed_document(root);\n",
       "  } else {\n",
       "    var attempts = 0;\n",
       "    var timer = setInterval(function(root) {\n",
       "      if (root.Bokeh !== undefined && root.Bokeh.Panel !== undefined) {\n",
       "        clearInterval(timer);\n",
       "        embed_document(root);\n",
       "      } else if (document.readyState == \"complete\") {\n",
       "        attempts++;\n",
       "        if (attempts > 200) {\n",
       "          clearInterval(timer);\n",
       "          console.log(\"Bokeh: ERROR: Unable to run BokehJS code because BokehJS library is missing\");\n",
       "        }\n",
       "      }\n",
       "    }, 25, root)\n",
       "  }\n",
       "})(window);</script>"
      ],
      "text/plain": [
       ":NdOverlay   [Region]\n",
       "   :Area   [Year]   (CO2eq,Baseline)"
      ]
     },
     "execution_count": 138,
     "metadata": {
      "application/vnd.holoviews_exec.v0+json": {
       "id": "6468"
      }
     },
     "output_type": "execute_result"
    }
   ],
   "source": [
    "# Visualize total ghg output in Canada and respective contribution by region\n",
    "total_provincal_ghg.hvplot.area(by='Region')"
   ]
  },
  {
   "cell_type": "code",
   "execution_count": 139,
   "id": "831038ed-4def-4bc6-9d0a-f5ca0dc95c37",
   "metadata": {},
   "outputs": [
    {
     "data": {
      "image/png": "[encoded data removed]",
      "text/plain": [
       "<Figure size 432x288 with 1 Axes>"
      ]
     },
     "execution_count": 139,
     "metadata": {},
     "output_type": "execute_result"
    },
    {
     "data": {
      "image/png": "[encoded data removed]",
      "text/plain": [
       "<Figure size 432x288 with 1 Axes>"
      ]
     },
     "metadata": {
      "needs_background": "light"
     },
     "output_type": "display_data"
    }
   ],
   "source": [
    "# Plot ACF\n",
    "from statsmodels.graphics.tsaplots import plot_acf, plot_pacf\n",
    "df = total_provincal_ghg.where(total_provincal_ghg['Region'] == 'Alberta').dropna()\n",
    "plot_acf(df['CO2eq'], zero=False, lags=10)"
   ]
  },
  {
   "cell_type": "code",
   "execution_count": 140,
   "id": "079d86c0-752d-46c8-ba33-604d4e41ac4b",
   "metadata": {},
   "outputs": [
    {
     "name": "stderr",
     "output_type": "stream",
     "text": [
      "C:\\Users\\Yau Hei Chan\\anaconda3\\lib\\site-packages\\statsmodels\\graphics\\tsaplots.py:348: FutureWarning: The default method 'yw' can produce PACF values outside of the [-1,1] interval. After 0.13, the default will change tounadjusted Yule-Walker ('ywm'). You can use this method now by setting method='ywm'.\n",
      "  warnings.warn(\n"
     ]
    },
    {
     "data": {
      "image/png": "[encoded data removed]",
      "text/plain": [
       "<Figure size 432x288 with 1 Axes>"
      ]
     },
     "execution_count": 140,
     "metadata": {},
     "output_type": "execute_result"
    },
    {
     "data": {
      "image/png": "[encoded data removed]",
      "text/plain": [
       "<Figure size 432x288 with 1 Axes>"
      ]
     },
     "metadata": {
      "needs_background": "light"
     },
     "output_type": "display_data"
    }
   ],
   "source": [
    "# Plot PACF\n",
    "plot_pacf(df['CO2eq'], zero=False, lags=10)"
   ]
  },
  {
   "cell_type": "markdown",
   "id": "0b3e716c-ab98-4414-9f14-dbee2577b0a8",
   "metadata": {},
   "source": [
    "## Run ARIMA for AB, BC, ON, and all of Canada"
   ]
  },
  {
   "cell_type": "code",
   "execution_count": 143,
   "id": "429e751e-cf5c-4f2a-b50b-53341b140dea",
   "metadata": {},
   "outputs": [
    {
     "data": {
      "text/html": [
       "<div>\n",
       "<style scoped>\n",
       "    .dataframe tbody tr th:only-of-type {\n",
       "        vertical-align: middle;\n",
       "    }\n",
       "\n",
       "    .dataframe tbody tr th {\n",
       "        vertical-align: top;\n",
       "    }\n",
       "\n",
       "    .dataframe thead th {\n",
       "        text-align: right;\n",
       "    }\n",
       "</style>\n",
       "<table border=\"1\" class=\"dataframe\">\n",
       "  <thead>\n",
       "    <tr style=\"text-align: right;\">\n",
       "      <th></th>\n",
       "      <th>Canada</th>\n",
       "    </tr>\n",
       "    <tr>\n",
       "      <th>Year</th>\n",
       "      <th></th>\n",
       "    </tr>\n",
       "  </thead>\n",
       "  <tbody>\n",
       "    <tr>\n",
       "      <th>1990-01-01</th>\n",
       "      <td>601.523693</td>\n",
       "    </tr>\n",
       "    <tr>\n",
       "      <th>1991-01-01</th>\n",
       "      <td>595.776726</td>\n",
       "    </tr>\n",
       "    <tr>\n",
       "      <th>1992-01-01</th>\n",
       "      <td>613.590640</td>\n",
       "    </tr>\n",
       "    <tr>\n",
       "      <th>1993-01-01</th>\n",
       "      <td>616.798394</td>\n",
       "    </tr>\n",
       "    <tr>\n",
       "      <th>1994-01-01</th>\n",
       "      <td>638.000470</td>\n",
       "    </tr>\n",
       "  </tbody>\n",
       "</table>\n",
       "</div>"
      ],
      "text/plain": [
       "                Canada\n",
       "Year                  \n",
       "1990-01-01  601.523693\n",
       "1991-01-01  595.776726\n",
       "1992-01-01  613.590640\n",
       "1993-01-01  616.798394\n",
       "1994-01-01  638.000470"
      ]
     },
     "execution_count": 143,
     "metadata": {},
     "output_type": "execute_result"
    }
   ],
   "source": [
    "# construct a dataframe with all relevant data\n",
    "total_ghg = total_canada_ghg.rename(columns={'CO2eq':'Canada'})\n",
    "total_ghg.drop(columns=['Region'], inplace=True)\n",
    "total_ghg.head()"
   ]
  },
  {
   "cell_type": "code",
   "execution_count": 147,
   "id": "aa8c11ce-2f54-4919-bbb2-74003f78a5b2",
   "metadata": {},
   "outputs": [
    {
     "data": {
      "text/html": [
       "<div>\n",
       "<style scoped>\n",
       "    .dataframe tbody tr th:only-of-type {\n",
       "        vertical-align: middle;\n",
       "    }\n",
       "\n",
       "    .dataframe tbody tr th {\n",
       "        vertical-align: top;\n",
       "    }\n",
       "\n",
       "    .dataframe thead th {\n",
       "        text-align: right;\n",
       "    }\n",
       "</style>\n",
       "<table border=\"1\" class=\"dataframe\">\n",
       "  <thead>\n",
       "    <tr style=\"text-align: right;\">\n",
       "      <th></th>\n",
       "      <th>Canada</th>\n",
       "      <th>Alberta</th>\n",
       "      <th>British Columbia</th>\n",
       "      <th>Ontario</th>\n",
       "    </tr>\n",
       "    <tr>\n",
       "      <th>Year</th>\n",
       "      <th></th>\n",
       "      <th></th>\n",
       "      <th></th>\n",
       "      <th></th>\n",
       "    </tr>\n",
       "  </thead>\n",
       "  <tbody>\n",
       "    <tr>\n",
       "      <th>1990-01-01</th>\n",
       "      <td>601.523693</td>\n",
       "      <td>171.784959</td>\n",
       "      <td>51.783130</td>\n",
       "      <td>180.048102</td>\n",
       "    </tr>\n",
       "    <tr>\n",
       "      <th>1991-01-01</th>\n",
       "      <td>595.776726</td>\n",
       "      <td>172.944469</td>\n",
       "      <td>50.882715</td>\n",
       "      <td>179.469093</td>\n",
       "    </tr>\n",
       "    <tr>\n",
       "      <th>1992-01-01</th>\n",
       "      <td>613.590640</td>\n",
       "      <td>180.991974</td>\n",
       "      <td>50.126933</td>\n",
       "      <td>182.898674</td>\n",
       "    </tr>\n",
       "    <tr>\n",
       "      <th>1993-01-01</th>\n",
       "      <td>616.798394</td>\n",
       "      <td>186.721411</td>\n",
       "      <td>53.160821</td>\n",
       "      <td>173.161361</td>\n",
       "    </tr>\n",
       "    <tr>\n",
       "      <th>1994-01-01</th>\n",
       "      <td>638.000470</td>\n",
       "      <td>196.161368</td>\n",
       "      <td>56.092659</td>\n",
       "      <td>175.479083</td>\n",
       "    </tr>\n",
       "  </tbody>\n",
       "</table>\n",
       "</div>"
      ],
      "text/plain": [
       "                Canada     Alberta  British Columbia     Ontario\n",
       "Year                                                            \n",
       "1990-01-01  601.523693  171.784959         51.783130  180.048102\n",
       "1991-01-01  595.776726  172.944469         50.882715  179.469093\n",
       "1992-01-01  613.590640  180.991974         50.126933  182.898674\n",
       "1993-01-01  616.798394  186.721411         53.160821  173.161361\n",
       "1994-01-01  638.000470  196.161368         56.092659  175.479083"
      ]
     },
     "execution_count": 147,
     "metadata": {},
     "output_type": "execute_result"
    }
   ],
   "source": [
    "region_of_interest = ['Alberta', 'British Columbia', 'Ontario']\n",
    "\n",
    "for r in region_of_interest:\n",
    "    df = total_provincal_ghg.where(total_provincal_ghg['Region'] == r).dropna()\n",
    "    df.rename(columns={'CO2eq':r}, inplace=True)\n",
    "    df = df.drop(columns=['Region'])\n",
    "    total_ghg = pd.concat([total_ghg, df], axis=1)\n",
    "\n",
    "total_ghg.head()\n"
   ]
  },
  {
   "cell_type": "code",
   "execution_count": 149,
   "id": "b7f7fcad-f2e1-4c84-82f4-fbde64d7f89d",
   "metadata": {},
   "outputs": [],
   "source": [
    "import warnings\n",
    "warnings.filterwarnings(\"ignore\")"
   ]
  },
  {
   "cell_type": "code",
   "execution_count": 157,
   "id": "672a0eb2-1725-44ea-a7f4-57ccd0c11344",
   "metadata": {},
   "outputs": [
    {
     "data": {
      "text/plain": [
       "{'Canada': <statsmodels.tsa.arima.model.ARIMAResultsWrapper at 0x141580d2e80>,\n",
       " 'Alberta': <statsmodels.tsa.arima.model.ARIMAResultsWrapper at 0x141580eafa0>,\n",
       " 'British Columbia': <statsmodels.tsa.arima.model.ARIMAResultsWrapper at 0x141580eaf10>,\n",
       " 'Ontario': <statsmodels.tsa.arima.model.ARIMAResultsWrapper at 0x1415813e2e0>}"
      ]
     },
     "execution_count": 157,
     "metadata": {},
     "output_type": "execute_result"
    }
   ],
   "source": [
    "# Run ARIMA model of each region\n",
    "from statsmodels.tsa.arima.model import ARIMA\n",
    "arima_results = {}\n",
    "for col in total_ghg.columns:\n",
    "    # AR look at pacf graph but do not use seasonality peaks\n",
    "    model = ARIMA(total_ghg[col],  dates=df.index, order=(2, 1, 2))\n",
    "    # Fit the model\n",
    "    arima_results.update({col : ARIMA.fit(model)})\n",
    "    # order is (AR, I, MA)\n",
    "\n",
    "arima_results"
   ]
  },
  {
   "cell_type": "code",
   "execution_count": 173,
   "id": "128b2deb-2f11-434d-96e1-f7fa49b66c95",
   "metadata": {},
   "outputs": [
    {
     "data": {
      "text/html": [
       "<table class=\"simpletable\">\n",
       "<caption>SARIMAX Results</caption>\n",
       "<tr>\n",
       "  <th>Dep. Variable:</th>        <td>Canada</td>      <th>  No. Observations:  </th>    <td>30</td>   \n",
       "</tr>\n",
       "<tr>\n",
       "  <th>Model:</th>            <td>ARIMA(2, 1, 2)</td>  <th>  Log Likelihood     </th> <td>-117.810</td>\n",
       "</tr>\n",
       "<tr>\n",
       "  <th>Date:</th>            <td>Sat, 04 Dec 2021</td> <th>  AIC                </th>  <td>245.621</td>\n",
       "</tr>\n",
       "<tr>\n",
       "  <th>Time:</th>                <td>22:27:28</td>     <th>  BIC                </th>  <td>252.457</td>\n",
       "</tr>\n",
       "<tr>\n",
       "  <th>Sample:</th>             <td>01-01-1990</td>    <th>  HQIC               </th>  <td>247.762</td>\n",
       "</tr>\n",
       "<tr>\n",
       "  <th></th>                   <td>- 01-01-2019</td>   <th>                     </th>     <td> </td>   \n",
       "</tr>\n",
       "<tr>\n",
       "  <th>Covariance Type:</th>        <td>opg</td>       <th>                     </th>     <td> </td>   \n",
       "</tr>\n",
       "</table>\n",
       "<table class=\"simpletable\">\n",
       "<tr>\n",
       "     <td></td>       <th>coef</th>     <th>std err</th>      <th>z</th>      <th>P>|z|</th>  <th>[0.025</th>    <th>0.975]</th>  \n",
       "</tr>\n",
       "<tr>\n",
       "  <th>ar.L1</th>  <td>    0.1309</td> <td>    0.448</td> <td>    0.292</td> <td> 0.770</td> <td>   -0.746</td> <td>    1.008</td>\n",
       "</tr>\n",
       "<tr>\n",
       "  <th>ar.L2</th>  <td>    0.6514</td> <td>    0.249</td> <td>    2.612</td> <td> 0.009</td> <td>    0.163</td> <td>    1.140</td>\n",
       "</tr>\n",
       "<tr>\n",
       "  <th>ma.L1</th>  <td>    0.2079</td> <td>   34.370</td> <td>    0.006</td> <td> 0.995</td> <td>  -67.156</td> <td>   67.572</td>\n",
       "</tr>\n",
       "<tr>\n",
       "  <th>ma.L2</th>  <td>   -0.7917</td> <td>   27.166</td> <td>   -0.029</td> <td> 0.977</td> <td>  -54.036</td> <td>   52.452</td>\n",
       "</tr>\n",
       "<tr>\n",
       "  <th>sigma2</th> <td>  186.1683</td> <td> 6355.123</td> <td>    0.029</td> <td> 0.977</td> <td>-1.23e+04</td> <td> 1.26e+04</td>\n",
       "</tr>\n",
       "</table>\n",
       "<table class=\"simpletable\">\n",
       "<tr>\n",
       "  <th>Ljung-Box (L1) (Q):</th>     <td>0.26</td> <th>  Jarque-Bera (JB):  </th> <td>4.80</td> \n",
       "</tr>\n",
       "<tr>\n",
       "  <th>Prob(Q):</th>                <td>0.61</td> <th>  Prob(JB):          </th> <td>0.09</td> \n",
       "</tr>\n",
       "<tr>\n",
       "  <th>Heteroskedasticity (H):</th> <td>0.45</td> <th>  Skew:              </th> <td>-0.91</td>\n",
       "</tr>\n",
       "<tr>\n",
       "  <th>Prob(H) (two-sided):</th>    <td>0.22</td> <th>  Kurtosis:          </th> <td>3.80</td> \n",
       "</tr>\n",
       "</table><br/><br/>Warnings:<br/>[1] Covariance matrix calculated using the outer product of gradients (complex-step)."
      ],
      "text/plain": [
       "<class 'statsmodels.iolib.summary.Summary'>\n",
       "\"\"\"\n",
       "                               SARIMAX Results                                \n",
       "==============================================================================\n",
       "Dep. Variable:                 Canada   No. Observations:                   30\n",
       "Model:                 ARIMA(2, 1, 2)   Log Likelihood                -117.810\n",
       "Date:                Sat, 04 Dec 2021   AIC                            245.621\n",
       "Time:                        22:27:28   BIC                            252.457\n",
       "Sample:                    01-01-1990   HQIC                           247.762\n",
       "                         - 01-01-2019                                         \n",
       "Covariance Type:                  opg                                         \n",
       "==============================================================================\n",
       "                 coef    std err          z      P>|z|      [0.025      0.975]\n",
       "------------------------------------------------------------------------------\n",
       "ar.L1          0.1309      0.448      0.292      0.770      -0.746       1.008\n",
       "ar.L2          0.6514      0.249      2.612      0.009       0.163       1.140\n",
       "ma.L1          0.2079     34.370      0.006      0.995     -67.156      67.572\n",
       "ma.L2         -0.7917     27.166     -0.029      0.977     -54.036      52.452\n",
       "sigma2       186.1683   6355.123      0.029      0.977   -1.23e+04    1.26e+04\n",
       "===================================================================================\n",
       "Ljung-Box (L1) (Q):                   0.26   Jarque-Bera (JB):                 4.80\n",
       "Prob(Q):                              0.61   Prob(JB):                         0.09\n",
       "Heteroskedasticity (H):               0.45   Skew:                            -0.91\n",
       "Prob(H) (two-sided):                  0.22   Kurtosis:                         3.80\n",
       "===================================================================================\n",
       "\n",
       "Warnings:\n",
       "[1] Covariance matrix calculated using the outer product of gradients (complex-step).\n",
       "\"\"\""
      ]
     },
     "execution_count": 173,
     "metadata": {},
     "output_type": "execute_result"
    }
   ],
   "source": [
    "arima_results['Canada'].summary()"
   ]
  },
  {
   "cell_type": "code",
   "execution_count": 178,
   "id": "a95e1fd5-354e-4c5f-8ca5-b1091e06c372",
   "metadata": {},
   "outputs": [
    {
     "name": "stdout",
     "output_type": "stream",
     "text": [
      "\n",
      "ARIMA result smmary for : Canada\n",
      "                               SARIMAX Results                                \n",
      "==============================================================================\n",
      "Dep. Variable:                 Canada   No. Observations:                   30\n",
      "Model:                 ARIMA(2, 1, 2)   Log Likelihood                -117.810\n",
      "Date:                Sat, 04 Dec 2021   AIC                            245.621\n",
      "Time:                        22:36:35   BIC                            252.457\n",
      "Sample:                    01-01-1990   HQIC                           247.762\n",
      "                         - 01-01-2019                                         \n",
      "Covariance Type:                  opg                                         \n",
      "==============================================================================\n",
      "                 coef    std err          z      P>|z|      [0.025      0.975]\n",
      "------------------------------------------------------------------------------\n",
      "ar.L1          0.1309      0.448      0.292      0.770      -0.746       1.008\n",
      "ar.L2          0.6514      0.249      2.612      0.009       0.163       1.140\n",
      "ma.L1          0.2079     34.370      0.006      0.995     -67.156      67.572\n",
      "ma.L2         -0.7917     27.166     -0.029      0.977     -54.036      52.452\n",
      "sigma2       186.1683   6355.123      0.029      0.977   -1.23e+04    1.26e+04\n",
      "===================================================================================\n",
      "Ljung-Box (L1) (Q):                   0.26   Jarque-Bera (JB):                 4.80\n",
      "Prob(Q):                              0.61   Prob(JB):                         0.09\n",
      "Heteroskedasticity (H):               0.45   Skew:                            -0.91\n",
      "Prob(H) (two-sided):                  0.22   Kurtosis:                         3.80\n",
      "===================================================================================\n",
      "\n",
      "Warnings:\n",
      "[1] Covariance matrix calculated using the outer product of gradients (complex-step).\n",
      "\n",
      "ARIMA result smmary for : Alberta\n",
      "                               SARIMAX Results                                \n",
      "==============================================================================\n",
      "Dep. Variable:                Alberta   No. Observations:                   30\n",
      "Model:                 ARIMA(2, 1, 2)   Log Likelihood                 -91.576\n",
      "Date:                Sat, 04 Dec 2021   AIC                            193.152\n",
      "Time:                        22:36:35   BIC                            199.989\n",
      "Sample:                    01-01-1990   HQIC                           195.293\n",
      "                         - 01-01-2019                                         \n",
      "Covariance Type:                  opg                                         \n",
      "==============================================================================\n",
      "                 coef    std err          z      P>|z|      [0.025      0.975]\n",
      "------------------------------------------------------------------------------\n",
      "ar.L1          0.0835      0.205      0.406      0.684      -0.319       0.486\n",
      "ar.L2          0.9165      0.189      4.859      0.000       0.547       1.286\n",
      "ma.L1          0.0046      4.683      0.001      0.999      -9.174       9.183\n",
      "ma.L2         -0.9953      0.358     -2.779      0.005      -1.697      -0.293\n",
      "sigma2        29.0352      0.152    190.549      0.000      28.737      29.334\n",
      "===================================================================================\n",
      "Ljung-Box (L1) (Q):                   0.16   Jarque-Bera (JB):                14.44\n",
      "Prob(Q):                              0.69   Prob(JB):                         0.00\n",
      "Heteroskedasticity (H):               3.46   Skew:                            -1.36\n",
      "Prob(H) (two-sided):                  0.06   Kurtosis:                         5.12\n",
      "===================================================================================\n",
      "\n",
      "Warnings:\n",
      "[1] Covariance matrix calculated using the outer product of gradients (complex-step).\n",
      "[2] Covariance matrix is singular or near-singular, with condition number 3.98e+19. Standard errors may be unstable.\n",
      "\n",
      "ARIMA result smmary for : British Columbia\n",
      "                               SARIMAX Results                                \n",
      "==============================================================================\n",
      "Dep. Variable:       British Columbia   No. Observations:                   30\n",
      "Model:                 ARIMA(2, 1, 2)   Log Likelihood                 -55.930\n",
      "Date:                Sat, 04 Dec 2021   AIC                            121.861\n",
      "Time:                        22:36:35   BIC                            128.697\n",
      "Sample:                    01-01-1990   HQIC                           124.002\n",
      "                         - 01-01-2019                                         \n",
      "Covariance Type:                  opg                                         \n",
      "==============================================================================\n",
      "                 coef    std err          z      P>|z|      [0.025      0.975]\n",
      "------------------------------------------------------------------------------\n",
      "ar.L1          0.1049      1.706      0.061      0.951      -3.238       3.448\n",
      "ar.L2          0.4329      0.629      0.688      0.492      -0.801       1.666\n",
      "ma.L1          0.2665      1.700      0.157      0.875      -3.066       3.599\n",
      "ma.L2         -0.5224      1.166     -0.448      0.654      -2.808       1.763\n",
      "sigma2         2.7309      0.908      3.008      0.003       0.951       4.510\n",
      "===================================================================================\n",
      "Ljung-Box (L1) (Q):                   0.06   Jarque-Bera (JB):                 0.71\n",
      "Prob(Q):                              0.80   Prob(JB):                         0.70\n",
      "Heteroskedasticity (H):               0.58   Skew:                            -0.33\n",
      "Prob(H) (two-sided):                  0.41   Kurtosis:                         3.38\n",
      "===================================================================================\n",
      "\n",
      "Warnings:\n",
      "[1] Covariance matrix calculated using the outer product of gradients (complex-step).\n",
      "\n",
      "ARIMA result smmary for : Ontario\n",
      "                               SARIMAX Results                                \n",
      "==============================================================================\n",
      "Dep. Variable:                Ontario   No. Observations:                   30\n",
      "Model:                 ARIMA(2, 1, 2)   Log Likelihood                 -97.307\n",
      "Date:                Sat, 04 Dec 2021   AIC                            204.615\n",
      "Time:                        22:36:35   BIC                            211.451\n",
      "Sample:                    01-01-1990   HQIC                           206.756\n",
      "                         - 01-01-2019                                         \n",
      "Covariance Type:                  opg                                         \n",
      "==============================================================================\n",
      "                 coef    std err          z      P>|z|      [0.025      0.975]\n",
      "------------------------------------------------------------------------------\n",
      "ar.L1          0.0744      6.351      0.012      0.991     -12.373      12.522\n",
      "ar.L2          0.5346      4.479      0.119      0.905      -8.243       9.313\n",
      "ma.L1          0.0415      6.375      0.007      0.995     -12.453      12.536\n",
      "ma.L2         -0.6022      5.239     -0.115      0.908     -10.871       9.666\n",
      "sigma2        47.9915     14.493      3.311      0.001      19.586      76.397\n",
      "===================================================================================\n",
      "Ljung-Box (L1) (Q):                   0.70   Jarque-Bera (JB):                11.61\n",
      "Prob(Q):                              0.40   Prob(JB):                         0.00\n",
      "Heteroskedasticity (H):               0.51   Skew:                            -1.14\n",
      "Prob(H) (two-sided):                  0.30   Kurtosis:                         5.10\n",
      "===================================================================================\n",
      "\n",
      "Warnings:\n",
      "[1] Covariance matrix calculated using the outer product of gradients (complex-step).\n"
     ]
    }
   ],
   "source": [
    "# Display model summary\n",
    "summary = {}\n",
    "for key in arima_results.keys():\n",
    "    print(f'\\nARIMA result smmary for : {key}')\n",
    "    summary.update({key: arima_results[key].summary()})\n",
    "    print(summary[key].as_text())"
   ]
  },
  {
   "cell_type": "code",
   "execution_count": 207,
   "id": "a42b805a-4196-482b-acd3-975fc527fb0e",
   "metadata": {},
   "outputs": [
    {
     "data": {},
     "metadata": {},
     "output_type": "display_data"
    },
    {
     "data": {
      "application/vnd.holoviews_exec.v0+json": "",
      "text/html": [
       "<div id='8199'>\n",
       "\n",
       "\n",
       "\n",
       "\n",
       "\n",
       "  <div class=\"bk-root\" id=\"fcca8bfc-1116-4a61-b174-08dddc170f7b\" data-root-id=\"8199\"></div>\n",
       "</div>\n",
       "<script type=\"application/javascript\">(function(root) {\n",
       "  function embed_document(root) {\n",
       "    var docs_json = {\"d417c265-c3c7-4cae-aff3-655c30a35f3d\":{\"defs\":[{\"extends\":null,\"module\":null,\"name\":\"ReactiveHTML1\",\"overrides\":[],\"properties\":[]},{\"extends\":null,\"module\":null,\"name\":\"FlexBox1\",\"overrides\":[],\"properties\":[{\"default\":\"flex-start\",\"kind\":null,\"name\":\"align_content\"},{\"default\":\"flex-start\",\"kind\":null,\"name\":\"align_items\"},{\"default\":\"row\",\"kind\":null,\"name\":\"flex_direction\"},{\"default\":\"wrap\",\"kind\":null,\"name\":\"flex_wrap\"},{\"default\":\"flex-start\",\"kind\":null,\"name\":\"justify_content\"}]},{\"extends\":null,\"module\":null,\"name\":\"TemplateActions1\",\"overrides\":[],\"properties\":[{\"default\":0,\"kind\":null,\"name\":\"open_modal\"},{\"default\":0,\"kind\":null,\"name\":\"close_modal\"}]},{\"extends\":null,\"module\":null,\"name\":\"MaterialTemplateActions1\",\"overrides\":[],\"properties\":[{\"default\":0,\"kind\":null,\"name\":\"open_modal\"},{\"default\":0,\"kind\":null,\"name\":\"close_modal\"}]}],\"roots\":{\"references\":[{\"attributes\":{\"months\":[0,1,2,3,4,5,6,7,8,9,10,11]},\"id\":\"8266\",\"type\":\"MonthsTicker\"},{\"attributes\":{\"months\":[0,6]},\"id\":\"8269\",\"type\":\"MonthsTicker\"},{\"attributes\":{},\"id\":\"8211\",\"type\":\"LinearScale\"},{\"attributes\":{\"months\":[0,2,4,6,8,10]},\"id\":\"8267\",\"type\":\"MonthsTicker\"},{\"attributes\":{},\"id\":\"8245\",\"type\":\"AllLabels\"},{\"attributes\":{\"days\":[1,15]},\"id\":\"8265\",\"type\":\"DaysTicker\"},{\"attributes\":{\"line_alpha\":0.1,\"line_color\":\"#30a2da\",\"line_width\":2,\"x\":{\"field\":\"index\"},\"y\":{\"field\":\"predicted_mean\"}},\"id\":\"8238\",\"type\":\"Line\"},{\"attributes\":{\"source\":{\"id\":\"8234\"}},\"id\":\"8241\",\"type\":\"CDSView\"},{\"attributes\":{\"days\":[1,2,3,4,5,6,7,8,9,10,11,12,13,14,15,16,17,18,19,20,21,22,23,24,25,26,27,28,29,30,31]},\"id\":\"8262\",\"type\":\"DaysTicker\"},{\"attributes\":{\"line_alpha\":0.2,\"line_color\":\"#30a2da\",\"line_width\":2,\"x\":{\"field\":\"index\"},\"y\":{\"field\":\"predicted_mean\"}},\"id\":\"8239\",\"type\":\"Line\"},{\"attributes\":{},\"id\":\"8247\",\"type\":\"BasicTickFormatter\"},{\"attributes\":{\"tools\":[{\"id\":\"8203\"},{\"id\":\"8221\"},{\"id\":\"8222\"},{\"id\":\"8223\"},{\"id\":\"8224\"},{\"id\":\"8225\"}]},\"id\":\"8227\",\"type\":\"Toolbar\"},{\"attributes\":{},\"id\":\"8270\",\"type\":\"YearsTicker\"},{\"attributes\":{\"bottom_units\":\"screen\",\"coordinates\":null,\"fill_alpha\":0.5,\"fill_color\":\"lightgrey\",\"group\":null,\"left_units\":\"screen\",\"level\":\"overlay\",\"line_alpha\":1.0,\"line_color\":\"black\",\"line_dash\":[4,4],\"line_width\":2,\"right_units\":\"screen\",\"syncable\":false,\"top_units\":\"screen\"},\"id\":\"8226\",\"type\":\"BoxAnnotation\"},{\"attributes\":{\"margin\":[5,5,5,5],\"name\":\"HSpacer14194\",\"sizing_mode\":\"stretch_width\"},\"id\":\"8293\",\"type\":\"Spacer\"},{\"attributes\":{},\"id\":\"8244\",\"type\":\"DatetimeTickFormatter\"},{\"attributes\":{},\"id\":\"8221\",\"type\":\"SaveTool\"},{\"attributes\":{},\"id\":\"8235\",\"type\":\"Selection\"},{\"attributes\":{\"overlay\":{\"id\":\"8226\"}},\"id\":\"8224\",\"type\":\"BoxZoomTool\"},{\"attributes\":{},\"id\":\"8225\",\"type\":\"ResetTool\"},{\"attributes\":{\"data\":{\"index\":{\"__ndarray__\":\"AACAbub1dkIAAADns2t3QgAAwPku4XdCAACADKpWeEIAAEAfJcx4QgAAwJfyQXlCAACAqm23eUIAAEC96Cx6QgAAANBjonpCAACASDEYe0IAAEBbrI17Qg==\",\"dtype\":\"float64\",\"order\":\"little\",\"shape\":[11]},\"predicted_mean\":{\"__ndarray__\":\"YgVuICPnhkDyjeIL/+OGQJqprDFh8YZAg5ZnyxXxhkD5zkqYw/mGQLdntjq1+oZAvXafDHwAh0AxwwD22gGHQEfVeyHMBYdAAXZCwzQHh0BV8atK9QmHQA==\",\"dtype\":\"float64\",\"order\":\"little\",\"shape\":[11]}},\"selected\":{\"id\":\"8235\"},\"selection_policy\":{\"id\":\"8256\"}},\"id\":\"8234\",\"type\":\"ColumnDataSource\"},{\"attributes\":{\"days\":[1,8,15,22]},\"id\":\"8264\",\"type\":\"DaysTicker\"},{\"attributes\":{\"end\":737.7192950254793,\"reset_end\":737.7192950254793,\"reset_start\":732.0250106931899,\"start\":732.0250106931899,\"tags\":[[[\"predicted_mean\",\"predicted_mean\",null]]]},\"id\":\"8202\",\"type\":\"Range1d\"},{\"attributes\":{},\"id\":\"8209\",\"type\":\"LinearScale\"},{\"attributes\":{\"below\":[{\"id\":\"8213\"}],\"center\":[{\"id\":\"8216\"},{\"id\":\"8220\"}],\"height\":300,\"left\":[{\"id\":\"8217\"}],\"margin\":[5,5,5,5],\"min_border_bottom\":10,\"min_border_left\":10,\"min_border_right\":10,\"min_border_top\":10,\"renderers\":[{\"id\":\"8240\"}],\"sizing_mode\":\"fixed\",\"title\":{\"id\":\"8205\"},\"toolbar\":{\"id\":\"8227\"},\"width\":700,\"x_range\":{\"id\":\"8201\"},\"x_scale\":{\"id\":\"8209\"},\"y_range\":{\"id\":\"8202\"},\"y_scale\":{\"id\":\"8211\"}},\"id\":\"8204\",\"subtype\":\"Figure\",\"type\":\"Plot\"},{\"attributes\":{\"line_color\":\"#30a2da\",\"line_width\":2,\"x\":{\"field\":\"index\"},\"y\":{\"field\":\"predicted_mean\"}},\"id\":\"8237\",\"type\":\"Line\"},{\"attributes\":{},\"id\":\"8248\",\"type\":\"AllLabels\"},{\"attributes\":{\"num_minor_ticks\":5,\"tickers\":[{\"id\":\"8259\"},{\"id\":\"8260\"},{\"id\":\"8261\"},{\"id\":\"8262\"},{\"id\":\"8263\"},{\"id\":\"8264\"},{\"id\":\"8265\"},{\"id\":\"8266\"},{\"id\":\"8267\"},{\"id\":\"8268\"},{\"id\":\"8269\"},{\"id\":\"8270\"}]},\"id\":\"8214\",\"type\":\"DatetimeTicker\"},{\"attributes\":{\"margin\":[5,5,5,5],\"name\":\"HSpacer14193\",\"sizing_mode\":\"stretch_width\"},\"id\":\"8200\",\"type\":\"Spacer\"},{\"attributes\":{\"coordinates\":null,\"data_source\":{\"id\":\"8234\"},\"glyph\":{\"id\":\"8237\"},\"group\":null,\"hover_glyph\":null,\"muted_glyph\":{\"id\":\"8239\"},\"nonselection_glyph\":{\"id\":\"8238\"},\"selection_glyph\":{\"id\":\"8242\"},\"view\":{\"id\":\"8241\"}},\"id\":\"8240\",\"type\":\"GlyphRenderer\"},{\"attributes\":{},\"id\":\"8222\",\"type\":\"PanTool\"},{\"attributes\":{\"axis_label\":\"predicted_mean\",\"coordinates\":null,\"formatter\":{\"id\":\"8247\"},\"group\":null,\"major_label_policy\":{\"id\":\"8248\"},\"ticker\":{\"id\":\"8218\"}},\"id\":\"8217\",\"type\":\"LinearAxis\"},{\"attributes\":{\"days\":[1,4,7,10,13,16,19,22,25,28]},\"id\":\"8263\",\"type\":\"DaysTicker\"},{\"attributes\":{},\"id\":\"8218\",\"type\":\"BasicTicker\"},{\"attributes\":{\"axis_label\":\"Year\",\"coordinates\":null,\"formatter\":{\"id\":\"8244\"},\"group\":null,\"major_label_policy\":{\"id\":\"8245\"},\"ticker\":{\"id\":\"8214\"}},\"id\":\"8213\",\"type\":\"DatetimeAxis\"},{\"attributes\":{\"line_color\":\"#30a2da\",\"line_width\":2,\"x\":{\"field\":\"index\"},\"y\":{\"field\":\"predicted_mean\"}},\"id\":\"8242\",\"type\":\"Line\"},{\"attributes\":{\"axis\":{\"id\":\"8213\"},\"coordinates\":null,\"grid_line_color\":null,\"group\":null,\"ticker\":null},\"id\":\"8216\",\"type\":\"Grid\"},{\"attributes\":{\"base\":24,\"mantissas\":[1,2,4,6,8,12],\"max_interval\":43200000.0,\"min_interval\":3600000.0,\"num_minor_ticks\":0},\"id\":\"8261\",\"type\":\"AdaptiveTicker\"},{\"attributes\":{\"end\":1893456000000.0,\"reset_end\":1893456000000.0,\"reset_start\":1577836800000.0,\"start\":1577836800000.0,\"tags\":[[[\"index\",\"index\",null]]]},\"id\":\"8201\",\"type\":\"Range1d\"},{\"attributes\":{\"coordinates\":null,\"group\":null,\"text\":\"GHG Emission Forecast of Canada\",\"text_color\":\"black\",\"text_font_size\":\"12pt\"},\"id\":\"8205\",\"type\":\"Title\"},{\"attributes\":{\"axis\":{\"id\":\"8217\"},\"coordinates\":null,\"dimension\":1,\"grid_line_color\":null,\"group\":null,\"ticker\":null},\"id\":\"8220\",\"type\":\"Grid\"},{\"attributes\":{},\"id\":\"8223\",\"type\":\"WheelZoomTool\"},{\"attributes\":{\"base\":60,\"mantissas\":[1,2,5,10,15,20,30],\"max_interval\":1800000.0,\"min_interval\":1000.0,\"num_minor_ticks\":0},\"id\":\"8260\",\"type\":\"AdaptiveTicker\"},{\"attributes\":{\"children\":[{\"id\":\"8200\"},{\"id\":\"8204\"},{\"id\":\"8293\"}],\"margin\":[0,0,0,0],\"name\":\"Row14189\",\"tags\":[\"embedded\"]},\"id\":\"8199\",\"type\":\"Row\"},{\"attributes\":{\"callback\":null,\"formatters\":{\"@{index}\":\"datetime\"},\"renderers\":[{\"id\":\"8240\"}],\"tags\":[\"hv_created\"],\"tooltips\":[[\"index\",\"@{index}{%F %T}\"],[\"predicted_mean\",\"@{predicted_mean}\"]]},\"id\":\"8203\",\"type\":\"HoverTool\"},{\"attributes\":{\"mantissas\":[1,2,5],\"max_interval\":500.0,\"num_minor_ticks\":0},\"id\":\"8259\",\"type\":\"AdaptiveTicker\"},{\"attributes\":{},\"id\":\"8256\",\"type\":\"UnionRenderers\"},{\"attributes\":{\"months\":[0,4,8]},\"id\":\"8268\",\"type\":\"MonthsTicker\"}],\"root_ids\":[\"8199\"]},\"title\":\"Bokeh Application\",\"version\":\"2.4.1\"}};\n",
       "    var render_items = [{\"docid\":\"d417c265-c3c7-4cae-aff3-655c30a35f3d\",\"root_ids\":[\"8199\"],\"roots\":{\"8199\":\"fcca8bfc-1116-4a61-b174-08dddc170f7b\"}}];\n",
       "    root.Bokeh.embed.embed_items_notebook(docs_json, render_items);\n",
       "  }\n",
       "  if (root.Bokeh !== undefined && root.Bokeh.Panel !== undefined) {\n",
       "    embed_document(root);\n",
       "  } else {\n",
       "    var attempts = 0;\n",
       "    var timer = setInterval(function(root) {\n",
       "      if (root.Bokeh !== undefined && root.Bokeh.Panel !== undefined) {\n",
       "        clearInterval(timer);\n",
       "        embed_document(root);\n",
       "      } else if (document.readyState == \"complete\") {\n",
       "        attempts++;\n",
       "        if (attempts > 200) {\n",
       "          clearInterval(timer);\n",
       "          console.log(\"Bokeh: ERROR: Unable to run BokehJS code because BokehJS library is missing\");\n",
       "        }\n",
       "      }\n",
       "    }, 25, root)\n",
       "  }\n",
       "})(window);</script>"
      ],
      "text/plain": [
       ":Curve   [index]   (predicted_mean)"
      ]
     },
     "execution_count": 207,
     "metadata": {
      "application/vnd.holoviews_exec.v0+json": {
       "id": "8199"
      }
     },
     "output_type": "execute_result"
    }
   ],
   "source": [
    "# Visualize the forecast\n",
    "#for key in arima_results:\n",
    "#    pd.DataFrame(arima_results[key].forecast(steps=12)).plot(title=f'GHG Emission Forecast of {key}')\n",
    "pd.DataFrame(arima_results['Canada'].forecast(steps=11)).hvplot(title=f'GHG Emission Forecast of Canada', xlabel='Year')"
   ]
  },
  {
   "cell_type": "code",
   "execution_count": 202,
   "id": "5111b99c-75f8-4378-a5d1-74ede40182b7",
   "metadata": {},
   "outputs": [
    {
     "data": {
      "image/png": "[encoded data removed]",
      "text/plain": [
       "<Figure size 432x288 with 1 Axes>"
      ]
     },
     "metadata": {
      "needs_background": "light"
     },
     "output_type": "display_data"
    },
    {
     "data": {
      "image/png": "[encoded data removed]",
      "text/plain": [
       "<Figure size 432x288 with 1 Axes>"
      ]
     },
     "metadata": {
      "needs_background": "light"
     },
     "output_type": "display_data"
    },
    {
     "data": {
      "image/png": "[encoded data removed]",
      "text/plain": [
       "<Figure size 432x288 with 1 Axes>"
      ]
     },
     "metadata": {
      "needs_background": "light"
     },
     "output_type": "display_data"
    },
    {
     "data": {
      "image/png": "[encoded data removed]",
      "text/plain": [
       "<Figure size 432x288 with 1 Axes>"
      ]
     },
     "metadata": {
      "needs_background": "light"
     },
     "output_type": "display_data"
    }
   ],
   "source": [
    "# Visualize result with 2030 target emission\n",
    "for key in arima_results:\n",
    "    df = pd.DataFrame(arima_results[key].forecast(steps=12))\n",
    "    df['Emission target'] = 0.6*total_ghg[key].loc['2005-01-01']\n",
    "    df.plot(title=f'GHG Emission Forecast of {key}')\n"
   ]
  },
  {
   "cell_type": "code",
   "execution_count": null,
   "id": "dc0caef0-8ab3-42a8-85a8-f6b4fa328623",
   "metadata": {},
   "outputs": [],
   "source": [
    "\n",
    "    "
   ]
  }
 ],
 "metadata": {
  "kernelspec": {
   "display_name": "Python 3 (ipykernel)",
   "language": "python",
   "name": "python3"
  },
  "language_info": {
   "codemirror_mode": {
    "name": "ipython",
    "version": 3
   },
   "file_extension": ".py",
   "mimetype": "text/x-python",
   "name": "python",
   "nbconvert_exporter": "python",
   "pygments_lexer": "ipython3",
   "version": "3.8.8"
  }
 },
 "nbformat": 4,
 "nbformat_minor": 5
}
